{
 "cells": [
  {
   "cell_type": "code",
   "execution_count": 1,
   "id": "d04e1a51",
   "metadata": {},
   "outputs": [],
   "source": [
    "#import packages\n",
    "\n",
    "import numpy as np\n",
    "import pandas as pd\n",
    "import matplotlib.pyplot as plt\n",
    "import seaborn as sns\n",
    "import os\n",
    "import datetime\n",
    "\n",
    "from library.sb_utils import save_file"
   ]
  },
  {
   "cell_type": "code",
   "execution_count": 2,
   "id": "06e4eeaf",
   "metadata": {},
   "outputs": [],
   "source": [
    "#load in the raw data into dataframes\n",
    "\n",
    "data_raw = pd.read_csv('data/fraud_challenge_150k.csv', parse_dates=True)"
   ]
  },
  {
   "cell_type": "code",
   "execution_count": 3,
   "id": "780d05c4",
   "metadata": {},
   "outputs": [
    {
     "data": {
      "text/html": [
       "<div>\n",
       "<style scoped>\n",
       "    .dataframe tbody tr th:only-of-type {\n",
       "        vertical-align: middle;\n",
       "    }\n",
       "\n",
       "    .dataframe tbody tr th {\n",
       "        vertical-align: top;\n",
       "    }\n",
       "\n",
       "    .dataframe thead th {\n",
       "        text-align: right;\n",
       "    }\n",
       "</style>\n",
       "<table border=\"1\" class=\"dataframe\">\n",
       "  <thead>\n",
       "    <tr style=\"text-align: right;\">\n",
       "      <th></th>\n",
       "      <th>account_age_days</th>\n",
       "      <th>transaction_amt</th>\n",
       "      <th>transaction_adj_amt</th>\n",
       "      <th>historic_velocity</th>\n",
       "      <th>ip_address</th>\n",
       "      <th>user_agent</th>\n",
       "      <th>email_domain</th>\n",
       "      <th>phone_number</th>\n",
       "      <th>billing_city</th>\n",
       "      <th>billing_postal</th>\n",
       "      <th>billing_state</th>\n",
       "      <th>card_bin</th>\n",
       "      <th>currency</th>\n",
       "      <th>cvv</th>\n",
       "      <th>signature_image</th>\n",
       "      <th>transaction_type</th>\n",
       "      <th>transaction_env</th>\n",
       "      <th>EVENT_TIMESTAMP</th>\n",
       "      <th>applicant_name</th>\n",
       "      <th>billing_address</th>\n",
       "      <th>merchant_id</th>\n",
       "      <th>locale</th>\n",
       "      <th>tranaction_initiate</th>\n",
       "      <th>days_since_last_logon</th>\n",
       "      <th>inital_amount</th>\n",
       "      <th>EVENT_LABEL</th>\n",
       "    </tr>\n",
       "  </thead>\n",
       "  <tbody>\n",
       "    <tr>\n",
       "      <th>0</th>\n",
       "      <td>3371.0</td>\n",
       "      <td>2167.0</td>\n",
       "      <td>56.0</td>\n",
       "      <td>2572.0</td>\n",
       "      <td>154.68.49.124</td>\n",
       "      <td>Opera/9.81.(Windows NT 10.0; ht-HT) Presto/2.9...</td>\n",
       "      <td>perez-garza.com</td>\n",
       "      <td>878-111-5140</td>\n",
       "      <td>Woodsburgh</td>\n",
       "      <td>96336.0</td>\n",
       "      <td>California</td>\n",
       "      <td>40771.0</td>\n",
       "      <td>cad</td>\n",
       "      <td>D</td>\n",
       "      <td>F</td>\n",
       "      <td>U</td>\n",
       "      <td>X</td>\n",
       "      <td>2020-12-29 09:05:51</td>\n",
       "      <td>Linda Wright</td>\n",
       "      <td>4684 Sharon Ranch</td>\n",
       "      <td>066-82-8795</td>\n",
       "      <td>niu_NZ</td>\n",
       "      <td>O</td>\n",
       "      <td>59.0</td>\n",
       "      <td>13646.0</td>\n",
       "      <td>legit</td>\n",
       "    </tr>\n",
       "    <tr>\n",
       "      <th>1</th>\n",
       "      <td>2714.0</td>\n",
       "      <td>2045.0</td>\n",
       "      <td>48.0</td>\n",
       "      <td>4517.0</td>\n",
       "      <td>39.131.125.85</td>\n",
       "      <td>Opera/9.76.(X11; Linux i686; mi-NZ) Presto/2.9...</td>\n",
       "      <td>mcneil-ortega.com</td>\n",
       "      <td>(002)736-0139</td>\n",
       "      <td>West Kevin</td>\n",
       "      <td>78083.0</td>\n",
       "      <td>Florida</td>\n",
       "      <td>24480.0</td>\n",
       "      <td>cad</td>\n",
       "      <td>X</td>\n",
       "      <td>X</td>\n",
       "      <td>H</td>\n",
       "      <td>W</td>\n",
       "      <td>2021-06-22 18:05:06</td>\n",
       "      <td>Terri Rivera</td>\n",
       "      <td>7642 Allison Ramp</td>\n",
       "      <td>669-99-9459</td>\n",
       "      <td>apn_IN</td>\n",
       "      <td>J</td>\n",
       "      <td>0.0</td>\n",
       "      <td>11930.0</td>\n",
       "      <td>legit</td>\n",
       "    </tr>\n",
       "    <tr>\n",
       "      <th>2</th>\n",
       "      <td>6987.0</td>\n",
       "      <td>2892.0</td>\n",
       "      <td>61.0</td>\n",
       "      <td>5007.0</td>\n",
       "      <td>166.245.194.83</td>\n",
       "      <td>Mozilla/5.0 (X11; Linux x86_64; rv:1.9.6.20) G...</td>\n",
       "      <td>davis-calderon.com</td>\n",
       "      <td>(983)585-2863x652</td>\n",
       "      <td>Lorichester</td>\n",
       "      <td>83236.0</td>\n",
       "      <td>Utah</td>\n",
       "      <td>37778.0</td>\n",
       "      <td>cad</td>\n",
       "      <td>X</td>\n",
       "      <td>Q</td>\n",
       "      <td>X</td>\n",
       "      <td>X</td>\n",
       "      <td>2021-05-10 13:48:38</td>\n",
       "      <td>Sarah Gray</td>\n",
       "      <td>4948 Lisa Passage</td>\n",
       "      <td>086-41-1624</td>\n",
       "      <td>dv_MV</td>\n",
       "      <td>T</td>\n",
       "      <td>83.0</td>\n",
       "      <td>7412.0</td>\n",
       "      <td>legit</td>\n",
       "    </tr>\n",
       "    <tr>\n",
       "      <th>3</th>\n",
       "      <td>2712.0</td>\n",
       "      <td>3040.0</td>\n",
       "      <td>28.0</td>\n",
       "      <td>6022.0</td>\n",
       "      <td>100.1.217.216</td>\n",
       "      <td>Mozilla/5.0 (Macintosh; Intel Mac OS X 10 9_3 ...</td>\n",
       "      <td>rose-lee.org</td>\n",
       "      <td>+1-678-897-3420x60738</td>\n",
       "      <td>Stephenmouth</td>\n",
       "      <td>78364.0</td>\n",
       "      <td>Virginia</td>\n",
       "      <td>55790.0</td>\n",
       "      <td>usd</td>\n",
       "      <td>G</td>\n",
       "      <td>G</td>\n",
       "      <td>C</td>\n",
       "      <td>N</td>\n",
       "      <td>2021-03-11 07:36:40</td>\n",
       "      <td>Valerie Jenkins</td>\n",
       "      <td>1616 Little Camp</td>\n",
       "      <td>669-97-4021</td>\n",
       "      <td>byn_ER</td>\n",
       "      <td>M</td>\n",
       "      <td>24.0</td>\n",
       "      <td>4623.0</td>\n",
       "      <td>legit</td>\n",
       "    </tr>\n",
       "    <tr>\n",
       "      <th>4</th>\n",
       "      <td>3598.0</td>\n",
       "      <td>2976.0</td>\n",
       "      <td>66.0</td>\n",
       "      <td>2600.0</td>\n",
       "      <td>113.156.65.245</td>\n",
       "      <td>Mozilla/5.0 (X11; Linux x86_64; rv:1.9.5.20) G...</td>\n",
       "      <td>nash.net</td>\n",
       "      <td>(013)204-1766x92641</td>\n",
       "      <td>New Brianmouth</td>\n",
       "      <td>77499.0</td>\n",
       "      <td>South Carolina</td>\n",
       "      <td>37370.0</td>\n",
       "      <td>cad</td>\n",
       "      <td>X</td>\n",
       "      <td>F</td>\n",
       "      <td>F</td>\n",
       "      <td>G</td>\n",
       "      <td>2021-03-27 06:13:35</td>\n",
       "      <td>Amy Coleman</td>\n",
       "      <td>149 Harris Rapid</td>\n",
       "      <td>088-21-6329</td>\n",
       "      <td>the_NP</td>\n",
       "      <td>K</td>\n",
       "      <td>21.0</td>\n",
       "      <td>1905.0</td>\n",
       "      <td>legit</td>\n",
       "    </tr>\n",
       "  </tbody>\n",
       "</table>\n",
       "</div>"
      ],
      "text/plain": [
       "   account_age_days  transaction_amt  transaction_adj_amt  historic_velocity  \\\n",
       "0            3371.0           2167.0                 56.0             2572.0   \n",
       "1            2714.0           2045.0                 48.0             4517.0   \n",
       "2            6987.0           2892.0                 61.0             5007.0   \n",
       "3            2712.0           3040.0                 28.0             6022.0   \n",
       "4            3598.0           2976.0                 66.0             2600.0   \n",
       "\n",
       "       ip_address                                         user_agent  \\\n",
       "0   154.68.49.124  Opera/9.81.(Windows NT 10.0; ht-HT) Presto/2.9...   \n",
       "1   39.131.125.85  Opera/9.76.(X11; Linux i686; mi-NZ) Presto/2.9...   \n",
       "2  166.245.194.83  Mozilla/5.0 (X11; Linux x86_64; rv:1.9.6.20) G...   \n",
       "3   100.1.217.216  Mozilla/5.0 (Macintosh; Intel Mac OS X 10 9_3 ...   \n",
       "4  113.156.65.245  Mozilla/5.0 (X11; Linux x86_64; rv:1.9.5.20) G...   \n",
       "\n",
       "         email_domain           phone_number    billing_city  billing_postal  \\\n",
       "0     perez-garza.com           878-111-5140      Woodsburgh         96336.0   \n",
       "1   mcneil-ortega.com          (002)736-0139      West Kevin         78083.0   \n",
       "2  davis-calderon.com      (983)585-2863x652     Lorichester         83236.0   \n",
       "3        rose-lee.org  +1-678-897-3420x60738    Stephenmouth         78364.0   \n",
       "4            nash.net    (013)204-1766x92641  New Brianmouth         77499.0   \n",
       "\n",
       "    billing_state  card_bin currency cvv signature_image transaction_type  \\\n",
       "0      California   40771.0      cad   D               F                U   \n",
       "1         Florida   24480.0      cad   X               X                H   \n",
       "2            Utah   37778.0      cad   X               Q                X   \n",
       "3        Virginia   55790.0      usd   G               G                C   \n",
       "4  South Carolina   37370.0      cad   X               F                F   \n",
       "\n",
       "  transaction_env      EVENT_TIMESTAMP   applicant_name    billing_address  \\\n",
       "0               X  2020-12-29 09:05:51     Linda Wright  4684 Sharon Ranch   \n",
       "1               W  2021-06-22 18:05:06     Terri Rivera  7642 Allison Ramp   \n",
       "2               X  2021-05-10 13:48:38       Sarah Gray  4948 Lisa Passage   \n",
       "3               N  2021-03-11 07:36:40  Valerie Jenkins   1616 Little Camp   \n",
       "4               G  2021-03-27 06:13:35      Amy Coleman   149 Harris Rapid   \n",
       "\n",
       "   merchant_id  locale tranaction_initiate  days_since_last_logon  \\\n",
       "0  066-82-8795  niu_NZ                   O                   59.0   \n",
       "1  669-99-9459  apn_IN                   J                    0.0   \n",
       "2  086-41-1624   dv_MV                   T                   83.0   \n",
       "3  669-97-4021  byn_ER                   M                   24.0   \n",
       "4  088-21-6329  the_NP                   K                   21.0   \n",
       "\n",
       "   inital_amount EVENT_LABEL  \n",
       "0        13646.0       legit  \n",
       "1        11930.0       legit  \n",
       "2         7412.0       legit  \n",
       "3         4623.0       legit  \n",
       "4         1905.0       legit  "
      ]
     },
     "execution_count": 3,
     "metadata": {},
     "output_type": "execute_result"
    }
   ],
   "source": [
    "pd.set_option('display.max_columns', None)\n",
    "\n",
    "data_raw.head()"
   ]
  },
  {
   "cell_type": "code",
   "execution_count": 4,
   "id": "912f4937",
   "metadata": {},
   "outputs": [
    {
     "data": {
      "text/html": [
       "<div>\n",
       "<style scoped>\n",
       "    .dataframe tbody tr th:only-of-type {\n",
       "        vertical-align: middle;\n",
       "    }\n",
       "\n",
       "    .dataframe tbody tr th {\n",
       "        vertical-align: top;\n",
       "    }\n",
       "\n",
       "    .dataframe thead th {\n",
       "        text-align: right;\n",
       "    }\n",
       "</style>\n",
       "<table border=\"1\" class=\"dataframe\">\n",
       "  <thead>\n",
       "    <tr style=\"text-align: right;\">\n",
       "      <th></th>\n",
       "      <th>account_age_days</th>\n",
       "      <th>transaction_amt</th>\n",
       "      <th>transaction_adj_amt</th>\n",
       "      <th>historic_velocity</th>\n",
       "      <th>billing_postal</th>\n",
       "      <th>card_bin</th>\n",
       "      <th>days_since_last_logon</th>\n",
       "      <th>inital_amount</th>\n",
       "    </tr>\n",
       "  </thead>\n",
       "  <tbody>\n",
       "    <tr>\n",
       "      <th>count</th>\n",
       "      <td>149892.000000</td>\n",
       "      <td>149870.000000</td>\n",
       "      <td>149886.000000</td>\n",
       "      <td>149885.000000</td>\n",
       "      <td>149876.000000</td>\n",
       "      <td>149872.000000</td>\n",
       "      <td>149864.000000</td>\n",
       "      <td>149872.000000</td>\n",
       "    </tr>\n",
       "    <tr>\n",
       "      <th>mean</th>\n",
       "      <td>4645.751995</td>\n",
       "      <td>2521.458944</td>\n",
       "      <td>54.202434</td>\n",
       "      <td>4702.200033</td>\n",
       "      <td>50190.088160</td>\n",
       "      <td>41837.521512</td>\n",
       "      <td>49.866392</td>\n",
       "      <td>7998.025275</td>\n",
       "    </tr>\n",
       "    <tr>\n",
       "      <th>std</th>\n",
       "      <td>1153.816155</td>\n",
       "      <td>604.524161</td>\n",
       "      <td>10.070401</td>\n",
       "      <td>1188.476704</td>\n",
       "      <td>28378.078852</td>\n",
       "      <td>10080.587192</td>\n",
       "      <td>29.204766</td>\n",
       "      <td>4047.071560</td>\n",
       "    </tr>\n",
       "    <tr>\n",
       "      <th>min</th>\n",
       "      <td>1.000000</td>\n",
       "      <td>5.000000</td>\n",
       "      <td>1.000000</td>\n",
       "      <td>50.000000</td>\n",
       "      <td>503.000000</td>\n",
       "      <td>6040.000000</td>\n",
       "      <td>0.000000</td>\n",
       "      <td>1000.000000</td>\n",
       "    </tr>\n",
       "    <tr>\n",
       "      <th>25%</th>\n",
       "      <td>3824.000000</td>\n",
       "      <td>2103.000000</td>\n",
       "      <td>48.000000</td>\n",
       "      <td>3872.000000</td>\n",
       "      <td>25314.000000</td>\n",
       "      <td>35386.000000</td>\n",
       "      <td>24.000000</td>\n",
       "      <td>4487.000000</td>\n",
       "    </tr>\n",
       "    <tr>\n",
       "      <th>50%</th>\n",
       "      <td>4667.000000</td>\n",
       "      <td>2544.000000</td>\n",
       "      <td>55.000000</td>\n",
       "      <td>4730.000000</td>\n",
       "      <td>50117.000000</td>\n",
       "      <td>42086.000000</td>\n",
       "      <td>50.000000</td>\n",
       "      <td>8002.000000</td>\n",
       "    </tr>\n",
       "    <tr>\n",
       "      <th>75%</th>\n",
       "      <td>5476.000000</td>\n",
       "      <td>2951.000000</td>\n",
       "      <td>61.000000</td>\n",
       "      <td>5548.000000</td>\n",
       "      <td>74338.000000</td>\n",
       "      <td>47374.000000</td>\n",
       "      <td>75.000000</td>\n",
       "      <td>11494.000000</td>\n",
       "    </tr>\n",
       "    <tr>\n",
       "      <th>max</th>\n",
       "      <td>9119.000000</td>\n",
       "      <td>4999.000000</td>\n",
       "      <td>99.000000</td>\n",
       "      <td>9999.000000</td>\n",
       "      <td>99950.000000</td>\n",
       "      <td>67639.000000</td>\n",
       "      <td>100.000000</td>\n",
       "      <td>15000.000000</td>\n",
       "    </tr>\n",
       "  </tbody>\n",
       "</table>\n",
       "</div>"
      ],
      "text/plain": [
       "       account_age_days  transaction_amt  transaction_adj_amt  \\\n",
       "count     149892.000000    149870.000000        149886.000000   \n",
       "mean        4645.751995      2521.458944            54.202434   \n",
       "std         1153.816155       604.524161            10.070401   \n",
       "min            1.000000         5.000000             1.000000   \n",
       "25%         3824.000000      2103.000000            48.000000   \n",
       "50%         4667.000000      2544.000000            55.000000   \n",
       "75%         5476.000000      2951.000000            61.000000   \n",
       "max         9119.000000      4999.000000            99.000000   \n",
       "\n",
       "       historic_velocity  billing_postal       card_bin  \\\n",
       "count      149885.000000   149876.000000  149872.000000   \n",
       "mean         4702.200033    50190.088160   41837.521512   \n",
       "std          1188.476704    28378.078852   10080.587192   \n",
       "min            50.000000      503.000000    6040.000000   \n",
       "25%          3872.000000    25314.000000   35386.000000   \n",
       "50%          4730.000000    50117.000000   42086.000000   \n",
       "75%          5548.000000    74338.000000   47374.000000   \n",
       "max          9999.000000    99950.000000   67639.000000   \n",
       "\n",
       "       days_since_last_logon  inital_amount  \n",
       "count          149864.000000  149872.000000  \n",
       "mean               49.866392    7998.025275  \n",
       "std                29.204766    4047.071560  \n",
       "min                 0.000000    1000.000000  \n",
       "25%                24.000000    4487.000000  \n",
       "50%                50.000000    8002.000000  \n",
       "75%                75.000000   11494.000000  \n",
       "max               100.000000   15000.000000  "
      ]
     },
     "execution_count": 4,
     "metadata": {},
     "output_type": "execute_result"
    }
   ],
   "source": [
    "data_raw.describe()"
   ]
  },
  {
   "cell_type": "code",
   "execution_count": 5,
   "id": "98d9f6b6",
   "metadata": {
    "scrolled": true
   },
   "outputs": [
    {
     "name": "stdout",
     "output_type": "stream",
     "text": [
      "<class 'pandas.core.frame.DataFrame'>\n",
      "RangeIndex: 150000 entries, 0 to 149999\n",
      "Data columns (total 26 columns):\n",
      " #   Column                 Non-Null Count   Dtype  \n",
      "---  ------                 --------------   -----  \n",
      " 0   account_age_days       149892 non-null  float64\n",
      " 1   transaction_amt        149870 non-null  float64\n",
      " 2   transaction_adj_amt    149886 non-null  float64\n",
      " 3   historic_velocity      149885 non-null  float64\n",
      " 4   ip_address             149873 non-null  object \n",
      " 5   user_agent             149887 non-null  object \n",
      " 6   email_domain           149910 non-null  object \n",
      " 7   phone_number           149873 non-null  object \n",
      " 8   billing_city           149884 non-null  object \n",
      " 9   billing_postal         149876 non-null  float64\n",
      " 10  billing_state          149887 non-null  object \n",
      " 11  card_bin               149872 non-null  float64\n",
      " 12  currency               149892 non-null  object \n",
      " 13  cvv                    149877 non-null  object \n",
      " 14  signature_image        149895 non-null  object \n",
      " 15  transaction_type       149884 non-null  object \n",
      " 16  transaction_env        149877 non-null  object \n",
      " 17  EVENT_TIMESTAMP        149888 non-null  object \n",
      " 18  applicant_name         149857 non-null  object \n",
      " 19  billing_address        149866 non-null  object \n",
      " 20  merchant_id            149893 non-null  object \n",
      " 21  locale                 149866 non-null  object \n",
      " 22  tranaction_initiate    149874 non-null  object \n",
      " 23  days_since_last_logon  149864 non-null  float64\n",
      " 24  inital_amount          149872 non-null  float64\n",
      " 25  EVENT_LABEL            150000 non-null  object \n",
      "dtypes: float64(8), object(18)\n",
      "memory usage: 29.8+ MB\n"
     ]
    }
   ],
   "source": [
    "data_raw.info()"
   ]
  },
  {
   "cell_type": "code",
   "execution_count": 6,
   "id": "88cbb94a",
   "metadata": {},
   "outputs": [],
   "source": [
    "#description of columns and how to resolve null values\n",
    "#which columns can we remove?\n",
    "\n",
    "#account_age_days: account age in days - if null, we assume = days since last logon, if both null then = 1\n",
    "#transaction_amt: transaction amount - if null, maybe median *see if null rows are any different\n",
    "#transaction_adj_amt: transaction adjusted amount - drop or fill nulls as median\n",
    "#historic_velocity: drop or fill nulls as median\n",
    "#ip_address: ip address - maybe transform into time-based \"number of times this ip address has been used in the past\" - if null, transformation = 0\n",
    "#user_agent: browser information >> later: one hot encode only this column to build a model and determine which is most important\n",
    "#    extract browser information into new columns - if null, create new category = \"unknown\"\n",
    "#email_domain: email domain >> same as user_agent\n",
    "#phone_number: phone number - area code? maybe drop\n",
    "#billing_city: billing city - drop\n",
    "#billing_postal: billing zip code - drop\n",
    "#billing_state: billing state - drop\n",
    "#card_bin: initial 4-6 numbers on credit card - maybe make numeric, otherwise drop\n",
    "#currency: currency >> one hot encode, convert transaction_amt using currency\n",
    "#cvv: drop\n",
    "#signature_image: drop\n",
    "#transaction_type: drop\n",
    "#transaction_env: drop\n",
    "#EVENT_TIMESTAMP: time of transaction - convert to date_time\n",
    "#applicant_name: customer name - drop\n",
    "#billing_address: billing street address - drop\n",
    "#merchant_id: merchant id - drop\n",
    "#locale: language and region preference id - split into lang and country, one hot encode\n",
    "#tranaction_initiate: drop\n",
    "#days_since_last_logon: days since last logon - null = median\n",
    "#inital_amount: - null - median\n",
    "#EVENT_LABEL: if transaction is legit or fraud - no null values *this is the target variable"
   ]
  },
  {
   "cell_type": "code",
   "execution_count": 7,
   "id": "58d95009",
   "metadata": {},
   "outputs": [],
   "source": [
    "#drop columns\n",
    "\n",
    "data_raw = data_raw.drop(['user_agent', 'email_domain', 'phone_number', 'billing_city', 'billing_postal', \n",
    "                          'billing_state', 'card_bin', 'cvv', 'signature_image', 'transaction_type', \n",
    "                          'transaction_env', 'applicant_name', 'billing_address', 'merchant_id', 'tranaction_initiate',\n",
    "                         ], axis=1)"
   ]
  },
  {
   "cell_type": "code",
   "execution_count": 8,
   "id": "b049a77f",
   "metadata": {},
   "outputs": [
    {
     "name": "stderr",
     "output_type": "stream",
     "text": [
      "/var/folders/1h/f10mrm6x3sg309bl17kg39r40000gp/T/ipykernel_8039/3734932161.py:5: UserWarning: To output multiple subplots, the figure containing the passed axes is being cleared\n",
      "  _ = data_raw.hist(ax = ax)\n"
     ]
    },
    {
     "data": {
      "image/png": "[encoded data removed]",
      "text/plain": [
       "<Figure size 1080x1440 with 6 Axes>"
      ]
     },
     "metadata": {
      "needs_background": "light"
     },
     "output_type": "display_data"
    }
   ],
   "source": [
    "#initial histograms to look at distribution\n",
    "\n",
    "fig = plt.figure(figsize = (15,20))\n",
    "ax = fig.gca()\n",
    "_ = data_raw.hist(ax = ax)"
   ]
  },
  {
   "cell_type": "code",
   "execution_count": 9,
   "id": "19fe1f9f",
   "metadata": {},
   "outputs": [],
   "source": [
    "#account_age_days\n",
    "\n",
    "for i, row in data_raw.iterrows():\n",
    "    if pd.isnull(row.account_age_days):\n",
    "        if pd.isnull(row.days_since_last_logon):\n",
    "            data_raw.loc[i, 'account_age_days'] = 1\n",
    "        else:\n",
    "            data_raw.loc[i, 'account_age_days'] = data_raw.loc[i, 'days_since_last_logon']"
   ]
  },
  {
   "cell_type": "code",
   "execution_count": 10,
   "id": "3d7bd365",
   "metadata": {},
   "outputs": [],
   "source": [
    "#transaction_amt, transaction_adj_amt, historic_velocity, days_since_last_logon,\n",
    "#initial_amount => fillna to median value\n",
    "\n",
    "data_raw.transaction_amt.fillna(data_raw.transaction_amt.median(), inplace=True)\n",
    "data_raw.transaction_adj_amt.fillna(data_raw.transaction_adj_amt.median(), inplace=True)\n",
    "data_raw.historic_velocity.fillna(data_raw.historic_velocity.median(), inplace=True)\n",
    "data_raw.days_since_last_logon.fillna(data_raw.days_since_last_logon.median(), inplace=True)\n",
    "data_raw.inital_amount.fillna(data_raw.inital_amount.median(), inplace=True)"
   ]
  },
  {
   "cell_type": "code",
   "execution_count": 11,
   "id": "17f13dc6",
   "metadata": {
    "scrolled": true
   },
   "outputs": [],
   "source": [
    "#ip address - sort by timestamp and transform column into number of times ip address has shown up in the past\n",
    "\n",
    "#convert EVENT_TIMESTAMP to datetime\n",
    "data_raw.EVENT_TIMESTAMP = pd.to_datetime(data_raw.EVENT_TIMESTAMP)\n",
    "\n",
    "#sort dataframe by timestamp\n",
    "data_raw.sort_values('EVENT_TIMESTAMP', inplace=True, ignore_index=True)\n",
    "\n",
    "#create column for ip_count to count each time an ip_address shows up\n",
    "data_raw['ip_count'] = 1\n",
    "\n",
    "#group data by ip_address and find cumulative sum of ip_count\n",
    "data_raw['ip_counts'] = data_raw.groupby('ip_address')['ip_count'].cumsum()\n",
    "\n",
    "#if a row doesn't have timestamp, change cumulative count to 1\n",
    "#if a row doesn't have an ip address, change cumulative count to 0\n",
    "for i, row in data_raw.iterrows():\n",
    "    if pd.isnull(row.ip_address):\n",
    "        data_raw.loc[i, 'ip_counts'] = 0\n",
    "    elif pd.isnull(row.EVENT_TIMESTAMP):\n",
    "        data_raw.loc[i, 'ip_counts'] = 1\n",
    "\n",
    "data_raw.drop(['ip_address', 'ip_count'], axis=1, inplace=True)"
   ]
  },
  {
   "cell_type": "code",
   "execution_count": 12,
   "id": "10c2f5ec",
   "metadata": {},
   "outputs": [],
   "source": [
    "#currency\n",
    "\n",
    "currencies = pd.get_dummies(data_raw.currency, prefix='Currency')\n",
    "data_raw = data_raw.join(currencies)\n",
    "data_raw.drop(['currency'], axis=1, inplace=True)"
   ]
  },
  {
   "cell_type": "code",
   "execution_count": 13,
   "id": "1e8d581b",
   "metadata": {
    "scrolled": true
   },
   "outputs": [],
   "source": [
    "#locale - split into language and country\n",
    "\n",
    "data_raw[['locale_lang', 'locale_country']] = data_raw.locale.str.split('_', expand=True)"
   ]
  },
  {
   "cell_type": "code",
   "execution_count": 14,
   "id": "476cbd3e",
   "metadata": {},
   "outputs": [
    {
     "data": {
      "text/plain": [
       "182"
      ]
     },
     "execution_count": 14,
     "metadata": {},
     "output_type": "execute_result"
    }
   ],
   "source": [
    "data_raw.locale_lang.nunique()"
   ]
  },
  {
   "cell_type": "code",
   "execution_count": 15,
   "id": "747da0a6",
   "metadata": {},
   "outputs": [
    {
     "data": {
      "text/plain": [
       "148"
      ]
     },
     "execution_count": 15,
     "metadata": {},
     "output_type": "execute_result"
    }
   ],
   "source": [
    "data_raw.locale_country.nunique()"
   ]
  },
  {
   "cell_type": "code",
   "execution_count": 16,
   "id": "233c9d96",
   "metadata": {},
   "outputs": [],
   "source": [
    "#the number of unique languages and countries is too high to use dummy variables - drop these for now\n",
    "\n",
    "data_raw.drop(['locale', 'locale_lang', 'locale_country'], axis=1, inplace=True)"
   ]
  },
  {
   "cell_type": "code",
   "execution_count": 17,
   "id": "ef8b55f9",
   "metadata": {},
   "outputs": [],
   "source": [
    "data_raw.drop(['EVENT_TIMESTAMP'], axis=1, inplace=True)"
   ]
  },
  {
   "cell_type": "code",
   "execution_count": 18,
   "id": "eef3ec95",
   "metadata": {},
   "outputs": [
    {
     "name": "stdout",
     "output_type": "stream",
     "text": [
      "<class 'pandas.core.frame.DataFrame'>\n",
      "RangeIndex: 150000 entries, 0 to 149999\n",
      "Data columns (total 11 columns):\n",
      " #   Column                 Non-Null Count   Dtype  \n",
      "---  ------                 --------------   -----  \n",
      " 0   account_age_days       150000 non-null  float64\n",
      " 1   transaction_amt        150000 non-null  float64\n",
      " 2   transaction_adj_amt    150000 non-null  float64\n",
      " 3   historic_velocity      150000 non-null  float64\n",
      " 4   days_since_last_logon  150000 non-null  float64\n",
      " 5   inital_amount          150000 non-null  float64\n",
      " 6   EVENT_LABEL            150000 non-null  object \n",
      " 7   ip_counts              150000 non-null  int64  \n",
      " 8   Currency_cad           150000 non-null  uint8  \n",
      " 9   Currency_eur           150000 non-null  uint8  \n",
      " 10  Currency_usd           150000 non-null  uint8  \n",
      "dtypes: float64(6), int64(1), object(1), uint8(3)\n",
      "memory usage: 9.6+ MB\n"
     ]
    }
   ],
   "source": [
    "data_raw.info()"
   ]
  },
  {
   "cell_type": "code",
   "execution_count": 19,
   "id": "4fb79e53",
   "metadata": {},
   "outputs": [],
   "source": [
    "#EDA\n",
    "\n",
    "#histograms - understanding distributions"
   ]
  },
  {
   "cell_type": "code",
   "execution_count": 20,
   "id": "dada30e3",
   "metadata": {},
   "outputs": [
    {
     "name": "stderr",
     "output_type": "stream",
     "text": [
      "/var/folders/1h/f10mrm6x3sg309bl17kg39r40000gp/T/ipykernel_8039/288044168.py:3: UserWarning: To output multiple subplots, the figure containing the passed axes is being cleared\n",
      "  _ = data_raw.hist(ax = ax)\n"
     ]
    },
    {
     "data": {
      "image/png": "[encoded data removed]",
      "text/plain": [
       "<Figure size 1080x1440 with 12 Axes>"
      ]
     },
     "metadata": {
      "needs_background": "light"
     },
     "output_type": "display_data"
    }
   ],
   "source": [
    "fig = plt.figure(figsize = (15,20))\n",
    "ax = fig.gca()\n",
    "_ = data_raw.hist(ax = ax)"
   ]
  },
  {
   "cell_type": "code",
   "execution_count": 21,
   "id": "4807a012",
   "metadata": {},
   "outputs": [
    {
     "name": "stdout",
     "output_type": "stream",
     "text": [
      "Writing file.  \"./data/data_cleaned.csv\"\n"
     ]
    }
   ],
   "source": [
    "from library.sb_utils import save_file\n",
    "\n",
    "datapath = './data'\n",
    "save_file(data_raw, 'data_cleaned.csv', datapath)"
   ]
  }
 ],
 "metadata": {
  "kernelspec": {
   "display_name": "Python 3 (ipykernel)",
   "language": "python",
   "name": "python3"
  },
  "language_info": {
   "codemirror_mode": {
    "name": "ipython",
    "version": 3
   },
   "file_extension": ".py",
   "mimetype": "text/x-python",
   "name": "python",
   "nbconvert_exporter": "python",
   "pygments_lexer": "ipython3",
   "version": "3.9.7"
  }
 },
 "nbformat": 4,
 "nbformat_minor": 5
}
