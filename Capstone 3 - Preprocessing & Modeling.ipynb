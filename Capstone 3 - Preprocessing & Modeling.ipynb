{
 "cells": [
  {
   "cell_type": "code",
   "execution_count": 2,
   "id": "8fef1df3",
   "metadata": {},
   "outputs": [],
   "source": [
    "import numpy as np\n",
    "import pandas as pd\n",
    "import matplotlib.pyplot as plt\n",
    "import seaborn as sns\n",
    "from datetime import datetime, timedelta"
   ]
  },
  {
   "cell_type": "code",
   "execution_count": 3,
   "id": "0d4385f3",
   "metadata": {},
   "outputs": [],
   "source": [
    "data = pd.read_csv('data/data_cleaned.csv')"
   ]
  },
  {
   "cell_type": "code",
   "execution_count": 4,
   "id": "d67abf8c",
   "metadata": {},
   "outputs": [
    {
     "data": {
      "text/html": [
       "<div>\n",
       "<style scoped>\n",
       "    .dataframe tbody tr th:only-of-type {\n",
       "        vertical-align: middle;\n",
       "    }\n",
       "\n",
       "    .dataframe tbody tr th {\n",
       "        vertical-align: top;\n",
       "    }\n",
       "\n",
       "    .dataframe thead th {\n",
       "        text-align: right;\n",
       "    }\n",
       "</style>\n",
       "<table border=\"1\" class=\"dataframe\">\n",
       "  <thead>\n",
       "    <tr style=\"text-align: right;\">\n",
       "      <th></th>\n",
       "      <th>account_age_days</th>\n",
       "      <th>transaction_amt</th>\n",
       "      <th>transaction_adj_amt</th>\n",
       "      <th>historic_velocity</th>\n",
       "      <th>days_since_last_logon</th>\n",
       "      <th>inital_amount</th>\n",
       "      <th>EVENT_LABEL</th>\n",
       "      <th>ip_counts</th>\n",
       "      <th>Currency_eur</th>\n",
       "      <th>Currency_usd</th>\n",
       "    </tr>\n",
       "  </thead>\n",
       "  <tbody>\n",
       "    <tr>\n",
       "      <th>0</th>\n",
       "      <td>3557.0</td>\n",
       "      <td>2196.0</td>\n",
       "      <td>62.0</td>\n",
       "      <td>4346.0</td>\n",
       "      <td>68.0</td>\n",
       "      <td>10447.0</td>\n",
       "      <td>legit</td>\n",
       "      <td>1</td>\n",
       "      <td>0</td>\n",
       "      <td>0</td>\n",
       "    </tr>\n",
       "    <tr>\n",
       "      <th>1</th>\n",
       "      <td>5454.0</td>\n",
       "      <td>3037.0</td>\n",
       "      <td>54.0</td>\n",
       "      <td>6215.0</td>\n",
       "      <td>67.0</td>\n",
       "      <td>6337.0</td>\n",
       "      <td>legit</td>\n",
       "      <td>1</td>\n",
       "      <td>0</td>\n",
       "      <td>0</td>\n",
       "    </tr>\n",
       "    <tr>\n",
       "      <th>2</th>\n",
       "      <td>4685.0</td>\n",
       "      <td>3415.0</td>\n",
       "      <td>43.0</td>\n",
       "      <td>6478.0</td>\n",
       "      <td>91.0</td>\n",
       "      <td>11032.0</td>\n",
       "      <td>legit</td>\n",
       "      <td>1</td>\n",
       "      <td>0</td>\n",
       "      <td>0</td>\n",
       "    </tr>\n",
       "    <tr>\n",
       "      <th>3</th>\n",
       "      <td>2934.0</td>\n",
       "      <td>2613.0</td>\n",
       "      <td>56.0</td>\n",
       "      <td>5475.0</td>\n",
       "      <td>21.0</td>\n",
       "      <td>13205.0</td>\n",
       "      <td>legit</td>\n",
       "      <td>1</td>\n",
       "      <td>0</td>\n",
       "      <td>0</td>\n",
       "    </tr>\n",
       "    <tr>\n",
       "      <th>4</th>\n",
       "      <td>4127.0</td>\n",
       "      <td>1364.0</td>\n",
       "      <td>62.0</td>\n",
       "      <td>2420.0</td>\n",
       "      <td>91.0</td>\n",
       "      <td>8346.0</td>\n",
       "      <td>legit</td>\n",
       "      <td>1</td>\n",
       "      <td>0</td>\n",
       "      <td>0</td>\n",
       "    </tr>\n",
       "  </tbody>\n",
       "</table>\n",
       "</div>"
      ],
      "text/plain": [
       "   account_age_days  transaction_amt  transaction_adj_amt  historic_velocity  \\\n",
       "0            3557.0           2196.0                 62.0             4346.0   \n",
       "1            5454.0           3037.0                 54.0             6215.0   \n",
       "2            4685.0           3415.0                 43.0             6478.0   \n",
       "3            2934.0           2613.0                 56.0             5475.0   \n",
       "4            4127.0           1364.0                 62.0             2420.0   \n",
       "\n",
       "   days_since_last_logon  inital_amount EVENT_LABEL  ip_counts  Currency_eur  \\\n",
       "0                   68.0        10447.0       legit          1             0   \n",
       "1                   67.0         6337.0       legit          1             0   \n",
       "2                   91.0        11032.0       legit          1             0   \n",
       "3                   21.0        13205.0       legit          1             0   \n",
       "4                   91.0         8346.0       legit          1             0   \n",
       "\n",
       "   Currency_usd  \n",
       "0             0  \n",
       "1             0  \n",
       "2             0  \n",
       "3             0  \n",
       "4             0  "
      ]
     },
     "execution_count": 4,
     "metadata": {},
     "output_type": "execute_result"
    }
   ],
   "source": [
    "data.head()"
   ]
  },
  {
   "cell_type": "code",
   "execution_count": 5,
   "id": "834ebefd",
   "metadata": {},
   "outputs": [
    {
     "name": "stdout",
     "output_type": "stream",
     "text": [
      "<class 'pandas.core.frame.DataFrame'>\n",
      "RangeIndex: 150000 entries, 0 to 149999\n",
      "Data columns (total 10 columns):\n",
      " #   Column                 Non-Null Count   Dtype  \n",
      "---  ------                 --------------   -----  \n",
      " 0   account_age_days       150000 non-null  float64\n",
      " 1   transaction_amt        150000 non-null  float64\n",
      " 2   transaction_adj_amt    150000 non-null  float64\n",
      " 3   historic_velocity      150000 non-null  float64\n",
      " 4   days_since_last_logon  150000 non-null  float64\n",
      " 5   inital_amount          150000 non-null  float64\n",
      " 6   EVENT_LABEL            150000 non-null  object \n",
      " 7   ip_counts              150000 non-null  int64  \n",
      " 8   Currency_eur           150000 non-null  int64  \n",
      " 9   Currency_usd           150000 non-null  int64  \n",
      "dtypes: float64(6), int64(3), object(1)\n",
      "memory usage: 11.4+ MB\n"
     ]
    }
   ],
   "source": [
    "data.info()"
   ]
  },
  {
   "cell_type": "code",
   "execution_count": 6,
   "id": "fc6e5401",
   "metadata": {},
   "outputs": [],
   "source": [
    "#split dataset into features and target\n",
    "#target is mapped to numeric (0 for fraud, 1 for legit)\n",
    "\n",
    "X = data.drop('EVENT_LABEL', axis=1)\n",
    "y = data['EVENT_LABEL'].map({'legit': 1, 'fraud': 0})"
   ]
  },
  {
   "cell_type": "code",
   "execution_count": 7,
   "id": "1120ce86",
   "metadata": {},
   "outputs": [
    {
     "data": {
      "text/html": [
       "<div>\n",
       "<style scoped>\n",
       "    .dataframe tbody tr th:only-of-type {\n",
       "        vertical-align: middle;\n",
       "    }\n",
       "\n",
       "    .dataframe tbody tr th {\n",
       "        vertical-align: top;\n",
       "    }\n",
       "\n",
       "    .dataframe thead th {\n",
       "        text-align: right;\n",
       "    }\n",
       "</style>\n",
       "<table border=\"1\" class=\"dataframe\">\n",
       "  <thead>\n",
       "    <tr style=\"text-align: right;\">\n",
       "      <th></th>\n",
       "      <th>account_age_days</th>\n",
       "      <th>transaction_amt</th>\n",
       "      <th>transaction_adj_amt</th>\n",
       "      <th>historic_velocity</th>\n",
       "      <th>days_since_last_logon</th>\n",
       "      <th>inital_amount</th>\n",
       "      <th>ip_counts</th>\n",
       "      <th>Currency_eur</th>\n",
       "      <th>Currency_usd</th>\n",
       "    </tr>\n",
       "  </thead>\n",
       "  <tbody>\n",
       "    <tr>\n",
       "      <th>count</th>\n",
       "      <td>150000.000000</td>\n",
       "      <td>150000.000000</td>\n",
       "      <td>150000.000000</td>\n",
       "      <td>150000.000000</td>\n",
       "      <td>150000.000000</td>\n",
       "      <td>150000.000000</td>\n",
       "      <td>150000.000000</td>\n",
       "      <td>150000.000000</td>\n",
       "      <td>150000.000000</td>\n",
       "    </tr>\n",
       "    <tr>\n",
       "      <th>mean</th>\n",
       "      <td>4642.444247</td>\n",
       "      <td>2521.478480</td>\n",
       "      <td>54.203040</td>\n",
       "      <td>4702.221347</td>\n",
       "      <td>49.866513</td>\n",
       "      <td>7998.028667</td>\n",
       "      <td>8.824667</td>\n",
       "      <td>0.029153</td>\n",
       "      <td>0.211787</td>\n",
       "    </tr>\n",
       "    <tr>\n",
       "      <th>std</th>\n",
       "      <td>1159.965133</td>\n",
       "      <td>604.262506</td>\n",
       "      <td>10.066597</td>\n",
       "      <td>1188.021280</td>\n",
       "      <td>29.191524</td>\n",
       "      <td>4045.344431</td>\n",
       "      <td>6.238538</td>\n",
       "      <td>0.168237</td>\n",
       "      <td>0.408576</td>\n",
       "    </tr>\n",
       "    <tr>\n",
       "      <th>min</th>\n",
       "      <td>1.000000</td>\n",
       "      <td>5.000000</td>\n",
       "      <td>1.000000</td>\n",
       "      <td>50.000000</td>\n",
       "      <td>0.000000</td>\n",
       "      <td>1000.000000</td>\n",
       "      <td>0.000000</td>\n",
       "      <td>0.000000</td>\n",
       "      <td>0.000000</td>\n",
       "    </tr>\n",
       "    <tr>\n",
       "      <th>25%</th>\n",
       "      <td>3821.000000</td>\n",
       "      <td>2104.000000</td>\n",
       "      <td>48.000000</td>\n",
       "      <td>3873.000000</td>\n",
       "      <td>25.000000</td>\n",
       "      <td>4491.000000</td>\n",
       "      <td>4.000000</td>\n",
       "      <td>0.000000</td>\n",
       "      <td>0.000000</td>\n",
       "    </tr>\n",
       "    <tr>\n",
       "      <th>50%</th>\n",
       "      <td>4666.000000</td>\n",
       "      <td>2544.000000</td>\n",
       "      <td>55.000000</td>\n",
       "      <td>4730.000000</td>\n",
       "      <td>50.000000</td>\n",
       "      <td>8002.000000</td>\n",
       "      <td>8.000000</td>\n",
       "      <td>0.000000</td>\n",
       "      <td>0.000000</td>\n",
       "    </tr>\n",
       "    <tr>\n",
       "      <th>75%</th>\n",
       "      <td>5475.000000</td>\n",
       "      <td>2951.000000</td>\n",
       "      <td>61.000000</td>\n",
       "      <td>5548.000000</td>\n",
       "      <td>75.000000</td>\n",
       "      <td>11491.000000</td>\n",
       "      <td>13.000000</td>\n",
       "      <td>0.000000</td>\n",
       "      <td>0.000000</td>\n",
       "    </tr>\n",
       "    <tr>\n",
       "      <th>max</th>\n",
       "      <td>9119.000000</td>\n",
       "      <td>4999.000000</td>\n",
       "      <td>99.000000</td>\n",
       "      <td>9999.000000</td>\n",
       "      <td>100.000000</td>\n",
       "      <td>15000.000000</td>\n",
       "      <td>37.000000</td>\n",
       "      <td>1.000000</td>\n",
       "      <td>1.000000</td>\n",
       "    </tr>\n",
       "  </tbody>\n",
       "</table>\n",
       "</div>"
      ],
      "text/plain": [
       "       account_age_days  transaction_amt  transaction_adj_amt  \\\n",
       "count     150000.000000    150000.000000        150000.000000   \n",
       "mean        4642.444247      2521.478480            54.203040   \n",
       "std         1159.965133       604.262506            10.066597   \n",
       "min            1.000000         5.000000             1.000000   \n",
       "25%         3821.000000      2104.000000            48.000000   \n",
       "50%         4666.000000      2544.000000            55.000000   \n",
       "75%         5475.000000      2951.000000            61.000000   \n",
       "max         9119.000000      4999.000000            99.000000   \n",
       "\n",
       "       historic_velocity  days_since_last_logon  inital_amount      ip_counts  \\\n",
       "count      150000.000000          150000.000000  150000.000000  150000.000000   \n",
       "mean         4702.221347              49.866513    7998.028667       8.824667   \n",
       "std          1188.021280              29.191524    4045.344431       6.238538   \n",
       "min            50.000000               0.000000    1000.000000       0.000000   \n",
       "25%          3873.000000              25.000000    4491.000000       4.000000   \n",
       "50%          4730.000000              50.000000    8002.000000       8.000000   \n",
       "75%          5548.000000              75.000000   11491.000000      13.000000   \n",
       "max          9999.000000             100.000000   15000.000000      37.000000   \n",
       "\n",
       "        Currency_eur   Currency_usd  \n",
       "count  150000.000000  150000.000000  \n",
       "mean        0.029153       0.211787  \n",
       "std         0.168237       0.408576  \n",
       "min         0.000000       0.000000  \n",
       "25%         0.000000       0.000000  \n",
       "50%         0.000000       0.000000  \n",
       "75%         0.000000       0.000000  \n",
       "max         1.000000       1.000000  "
      ]
     },
     "execution_count": 7,
     "metadata": {},
     "output_type": "execute_result"
    }
   ],
   "source": [
    "data.describe()"
   ]
  },
  {
   "cell_type": "code",
   "execution_count": 8,
   "id": "832186c2",
   "metadata": {},
   "outputs": [],
   "source": [
    "#split into training and testing sets\n",
    "\n",
    "from sklearn.model_selection import train_test_split\n",
    "\n",
    "X_train, X_test, y_train, y_test = train_test_split(X, y, test_size=0.2, random_state=123)"
   ]
  },
  {
   "cell_type": "code",
   "execution_count": 9,
   "id": "de904fe9",
   "metadata": {},
   "outputs": [],
   "source": [
    "#standardize features to have same range\n",
    "\n",
    "from sklearn.preprocessing import StandardScaler\n",
    "\n",
    "scaler = StandardScaler()\n",
    "X_train_scaled = scaler.fit_transform(X_train)\n",
    "X_test_scaled = scaler.transform(X_test)"
   ]
  },
  {
   "cell_type": "markdown",
   "id": "86ff7ce2",
   "metadata": {},
   "source": [
    "Modeling"
   ]
  },
  {
   "cell_type": "code",
   "execution_count": 10,
   "id": "e858f4d2",
   "metadata": {},
   "outputs": [],
   "source": [
    "#this is a classification problem\n",
    "#try logistic regression, random forest / gradient boosting, and XG boost\n",
    "#grid search CV on hyperparameters\n",
    "#tree models: try both max_depth and min_samples_leaf hyperparameters\n",
    "#neural network: grab templates online to use -- evaluate performance compared to trees (not as good for imbalanced dataset)"
   ]
  },
  {
   "cell_type": "code",
   "execution_count": 11,
   "id": "c7cb4046",
   "metadata": {},
   "outputs": [],
   "source": [
    "#import the models\n",
    "\n",
    "from sklearn.linear_model import LogisticRegression\n",
    "from sklearn.ensemble import RandomForestClassifier\n",
    "from sklearn.ensemble import GradientBoostingClassifier\n",
    "from xgboost import XGBClassifier\n",
    "\n",
    "from sklearn.model_selection import GridSearchCV"
   ]
  },
  {
   "cell_type": "code",
   "execution_count": 12,
   "id": "1715c0b8",
   "metadata": {},
   "outputs": [],
   "source": [
    "#hyperparameter tuning for GB model\n",
    "\n",
    "params = {'max_depth': [3, 10, 1000], 'min_samples_leaf': [1, 50, 100], 'n_iter_no_change': [5]}\n",
    "\n",
    "clf = GridSearchCV(GradientBoostingClassifier(), params, cv=5)\n",
    "clf.fit(X_train_scaled, y_train)\n",
    "gb_params = clf.best_params_"
   ]
  },
  {
   "cell_type": "code",
   "execution_count": 13,
   "id": "0f786986",
   "metadata": {},
   "outputs": [],
   "source": [
    "#hyperparameter tuning for Random Forest model\n",
    "\n",
    "params = {'max_depth': [3, 10, 15], 'min_samples_leaf': [1, 50, 100], 'n_estimators': [100]}\n",
    "\n",
    "clf = GridSearchCV(RandomForestClassifier(), params, cv=5)\n",
    "clf.fit(X_train_scaled, y_train)\n",
    "rf_params = clf.best_params_"
   ]
  },
  {
   "cell_type": "code",
   "execution_count": 14,
   "id": "c6ec8382",
   "metadata": {},
   "outputs": [],
   "source": [
    "#hyperparameter tuning for XGBoost model\n",
    "\n",
    "params = {'max_depth': [3, 6, 10], 'min_child_weight': [1, 50, 100], 'n_estimators': [100]}\n",
    "\n",
    "clf = GridSearchCV(XGBClassifier(use_label_encoder=False), params, cv=5)\n",
    "clf.fit(X_train_scaled, y_train, eval_metric='auc')\n",
    "xgb_params = clf.best_params_"
   ]
  },
  {
   "cell_type": "code",
   "execution_count": 15,
   "id": "267ee583",
   "metadata": {},
   "outputs": [
    {
     "name": "stdout",
     "output_type": "stream",
     "text": [
      "{'max_depth': 10, 'min_samples_leaf': 100, 'n_iter_no_change': 5}\n",
      "{'max_depth': 15, 'min_samples_leaf': 1, 'n_estimators': 100}\n",
      "{'max_depth': 3, 'min_child_weight': 1, 'n_estimators': 100}\n"
     ]
    }
   ],
   "source": [
    "print(gb_params)\n",
    "print(rf_params)\n",
    "print(xgb_params)"
   ]
  },
  {
   "cell_type": "code",
   "execution_count": 102,
   "id": "3d1d2280",
   "metadata": {},
   "outputs": [
    {
     "name": "stderr",
     "output_type": "stream",
     "text": [
      "/opt/anaconda3/lib/python3.9/site-packages/xgboost/sklearn.py:1224: UserWarning: The use of label encoder in XGBClassifier is deprecated and will be removed in a future release. To remove this warning, do the following: 1) Pass option use_label_encoder=False when constructing XGBClassifier object; and 2) Encode your labels (y) as integers starting with 0, i.e. 0, 1, 2, ..., [num_class - 1].\n",
      "  warnings.warn(label_encoder_deprecation_msg, UserWarning)\n"
     ]
    },
    {
     "name": "stdout",
     "output_type": "stream",
     "text": [
      "[17:12:12] WARNING: /Users/runner/miniforge3/conda-bld/xgboost-split_1637426408905/work/src/learner.cc:1115: Starting in XGBoost 1.3.0, the default evaluation metric used with the objective 'binary:logistic' was changed from 'error' to 'logloss'. Explicitly set eval_metric if you'd like to restore the old behavior.\n"
     ]
    }
   ],
   "source": [
    "#create dictionary containing all of the models\n",
    "#write a function that fits and predicts on all of the models in the dictionary and saves the \n",
    "#predicted values into a dataframe and the auc into a dictionary\n",
    "\n",
    "from sklearn.metrics import roc_auc_score\n",
    "\n",
    "models = {'rf': RandomForestClassifier(**rf_params), \n",
    "          'gbm': GradientBoostingClassifier(**gb_params),\n",
    "          'lr': LogisticRegression(),\n",
    "          'xgb': XGBClassifier(**xgb_params)}\n",
    "\n",
    "predictions = pd.DataFrame()\n",
    "pred_probas = pd.DataFrame()\n",
    "auc_scores = {}\n",
    "\n",
    "for name, model in models.items():\n",
    "    local_model = model.fit(X_train_scaled, y_train)\n",
    "    y_pred = local_model.predict(X_test_scaled)\n",
    "    predictions[name] = y_pred\n",
    "    y_pred_proba = local_model.predict_proba(X_test_scaled)\n",
    "    pred_probas[name] = y_pred_proba[:,1]\n",
    "    auc_score = roc_auc_score(y_test, y_pred_proba[:,1])\n",
    "    auc_scores[name] = auc_score"
   ]
  },
  {
   "cell_type": "code",
   "execution_count": 103,
   "id": "1294db75",
   "metadata": {
    "scrolled": true
   },
   "outputs": [
    {
     "data": {
      "text/plain": [
       "{'rf': 0.92547140267348,\n",
       " 'gbm': 0.9256771014795248,\n",
       " 'lr': 0.9137989849808803,\n",
       " 'xgb': 0.9288367998526357}"
      ]
     },
     "execution_count": 103,
     "metadata": {},
     "output_type": "execute_result"
    }
   ],
   "source": [
    "auc_scores"
   ]
  },
  {
   "cell_type": "code",
   "execution_count": 56,
   "id": "83eed96f",
   "metadata": {
    "scrolled": true
   },
   "outputs": [
    {
     "data": {
      "text/plain": [
       "{'max_depth': 3, 'min_child_weight': 1, 'n_estimators': 100}"
      ]
     },
     "execution_count": 56,
     "metadata": {},
     "output_type": "execute_result"
    }
   ],
   "source": [
    "xgb_params"
   ]
  },
  {
   "cell_type": "code",
   "execution_count": 57,
   "id": "2c3ae6b3",
   "metadata": {},
   "outputs": [],
   "source": [
    "#XGBoost model is the best performing with auc = 0.929 as an evaluation metric"
   ]
  },
  {
   "cell_type": "code",
   "execution_count": 58,
   "id": "676a51a3",
   "metadata": {
    "scrolled": true
   },
   "outputs": [
    {
     "data": {
      "image/png": "[encoded data removed]",
      "text/plain": [
       "<Figure size 576x396 with 1 Axes>"
      ]
     },
     "metadata": {},
     "output_type": "display_data"
    }
   ],
   "source": [
    "#find roc for xgb model\n",
    "\n",
    "from sklearn.metrics import roc_curve\n",
    "\n",
    "xgb_fpr, xgb_tpr, xgb_thresh = roc_curve(y_test, pred_probas['xgb'], pos_label=1)\n",
    "\n",
    "# roc curve for tpr = fpr \n",
    "random_probs = [0 for i in range(len(y_test))]\n",
    "p_fpr, p_tpr, _ = roc_curve(y_test, random_probs, pos_label=1)\n",
    "\n",
    "#plot roc curve\n",
    "import matplotlib.pyplot as plt\n",
    "plt.style.use('seaborn')\n",
    "\n",
    "# plot roc curve\n",
    "plt.plot(xgb_fpr, xgb_tpr, linestyle='--',color='orange', label='XGBoost Classifier')\n",
    "plt.plot(p_fpr, p_tpr, linestyle='--', color='blue')\n",
    "# title\n",
    "plt.title('ROC curve')\n",
    "# x label\n",
    "plt.xlabel('False Positive Rate')\n",
    "# y label\n",
    "plt.ylabel('True Positive rate')\n",
    "\n",
    "plt.legend(loc='best')\n",
    "plt.savefig('ROC',dpi=300)\n",
    "plt.show();"
   ]
  },
  {
   "cell_type": "code",
   "execution_count": 109,
   "id": "1376632a",
   "metadata": {},
   "outputs": [],
   "source": [
    "#try neural network\n",
    "\n",
    "from keras.models import Sequential\n",
    "from keras.layers import Dense\n",
    "from keras.wrappers.scikit_learn import KerasClassifier\n",
    "from sklearn.model_selection import StratifiedKFold\n",
    "from sklearn.model_selection import cross_val_score"
   ]
  },
  {
   "cell_type": "code",
   "execution_count": 110,
   "id": "123c8fec",
   "metadata": {},
   "outputs": [
    {
     "name": "stdout",
     "output_type": "stream",
     "text": [
      "Epoch 1/100\n",
      "192/192 [==============================] - 1s 4ms/step - loss: 0.5610 - val_loss: 0.4224\n",
      "Epoch 2/100\n",
      "192/192 [==============================] - 0s 1ms/step - loss: 0.3295 - val_loss: 0.2563\n",
      "Epoch 3/100\n",
      "192/192 [==============================] - 0s 1ms/step - loss: 0.2167 - val_loss: 0.1849\n",
      "Epoch 4/100\n",
      "192/192 [==============================] - 0s 1ms/step - loss: 0.1670 - val_loss: 0.1518\n",
      "Epoch 5/100\n",
      "192/192 [==============================] - 0s 1ms/step - loss: 0.1427 - val_loss: 0.1352\n",
      "Epoch 6/100\n",
      "192/192 [==============================] - 0s 1ms/step - loss: 0.1302 - val_loss: 0.1267\n",
      "Epoch 7/100\n",
      "192/192 [==============================] - 0s 1ms/step - loss: 0.1233 - val_loss: 0.1220\n",
      "Epoch 8/100\n",
      "192/192 [==============================] - 0s 1ms/step - loss: 0.1193 - val_loss: 0.1193\n",
      "Epoch 9/100\n",
      "192/192 [==============================] - 0s 1ms/step - loss: 0.1168 - val_loss: 0.1175\n",
      "Epoch 10/100\n",
      "192/192 [==============================] - 0s 1ms/step - loss: 0.1149 - val_loss: 0.1161\n",
      "Epoch 11/100\n",
      "192/192 [==============================] - 0s 1ms/step - loss: 0.1134 - val_loss: 0.1147\n",
      "Epoch 12/100\n",
      "192/192 [==============================] - 0s 1ms/step - loss: 0.1121 - val_loss: 0.1139\n",
      "Epoch 13/100\n",
      "192/192 [==============================] - 0s 1ms/step - loss: 0.1112 - val_loss: 0.1132\n",
      "Epoch 14/100\n",
      "192/192 [==============================] - 0s 1ms/step - loss: 0.1105 - val_loss: 0.1128\n",
      "Epoch 15/100\n",
      "192/192 [==============================] - 0s 1ms/step - loss: 0.1100 - val_loss: 0.1125\n",
      "Epoch 16/100\n",
      "192/192 [==============================] - 0s 1ms/step - loss: 0.1096 - val_loss: 0.1122\n",
      "Epoch 17/100\n",
      "192/192 [==============================] - 0s 1ms/step - loss: 0.1093 - val_loss: 0.1120\n",
      "Epoch 18/100\n",
      "192/192 [==============================] - 0s 1ms/step - loss: 0.1091 - val_loss: 0.1119\n",
      "Epoch 19/100\n",
      "192/192 [==============================] - 0s 1ms/step - loss: 0.1089 - val_loss: 0.1117\n",
      "Epoch 20/100\n",
      "192/192 [==============================] - 0s 1ms/step - loss: 0.1088 - val_loss: 0.1116\n",
      "Epoch 21/100\n",
      "192/192 [==============================] - 0s 1ms/step - loss: 0.1086 - val_loss: 0.1115\n",
      "Epoch 22/100\n",
      "192/192 [==============================] - 0s 1ms/step - loss: 0.1085 - val_loss: 0.1115\n",
      "Epoch 23/100\n",
      "192/192 [==============================] - 0s 1ms/step - loss: 0.1084 - val_loss: 0.1114\n",
      "Epoch 24/100\n",
      "192/192 [==============================] - 0s 1ms/step - loss: 0.1083 - val_loss: 0.1115\n",
      "Epoch 25/100\n",
      "192/192 [==============================] - 0s 1ms/step - loss: 0.1083 - val_loss: 0.1113\n",
      "Epoch 26/100\n",
      "192/192 [==============================] - 0s 1ms/step - loss: 0.1082 - val_loss: 0.1112\n",
      "Epoch 27/100\n",
      "192/192 [==============================] - 0s 1ms/step - loss: 0.1082 - val_loss: 0.1112\n",
      "Epoch 28/100\n",
      "192/192 [==============================] - 0s 1ms/step - loss: 0.1081 - val_loss: 0.1111\n",
      "Epoch 29/100\n",
      "192/192 [==============================] - 0s 1ms/step - loss: 0.1080 - val_loss: 0.1111\n",
      "Epoch 30/100\n",
      "192/192 [==============================] - 0s 1ms/step - loss: 0.1080 - val_loss: 0.1110\n",
      "Epoch 31/100\n",
      "192/192 [==============================] - 0s 1ms/step - loss: 0.1079 - val_loss: 0.1110\n",
      "Epoch 32/100\n",
      "192/192 [==============================] - 0s 1ms/step - loss: 0.1079 - val_loss: 0.1110\n",
      "Epoch 33/100\n",
      "192/192 [==============================] - 0s 1ms/step - loss: 0.1079 - val_loss: 0.1109\n",
      "Epoch 34/100\n",
      "192/192 [==============================] - 0s 1ms/step - loss: 0.1077 - val_loss: 0.1108\n",
      "Epoch 35/100\n",
      "192/192 [==============================] - 0s 1ms/step - loss: 0.1077 - val_loss: 0.1115\n",
      "Epoch 36/100\n",
      "192/192 [==============================] - 0s 1ms/step - loss: 0.1077 - val_loss: 0.1107\n",
      "Epoch 37/100\n",
      "192/192 [==============================] - 0s 1ms/step - loss: 0.1077 - val_loss: 0.1106\n",
      "Epoch 38/100\n",
      "192/192 [==============================] - 0s 1ms/step - loss: 0.1076 - val_loss: 0.1107\n",
      "Epoch 39/100\n",
      "192/192 [==============================] - 0s 1ms/step - loss: 0.1076 - val_loss: 0.1106\n",
      "Epoch 40/100\n",
      "192/192 [==============================] - 0s 1ms/step - loss: 0.1075 - val_loss: 0.1106\n",
      "Epoch 41/100\n",
      "192/192 [==============================] - 0s 1ms/step - loss: 0.1075 - val_loss: 0.1105\n",
      "Epoch 42/100\n",
      "192/192 [==============================] - 0s 1ms/step - loss: 0.1075 - val_loss: 0.1105\n",
      "Epoch 43/100\n",
      "192/192 [==============================] - 0s 1ms/step - loss: 0.1074 - val_loss: 0.1105\n",
      "Epoch 44/100\n",
      "192/192 [==============================] - 0s 1ms/step - loss: 0.1075 - val_loss: 0.1105\n",
      "Epoch 45/100\n",
      "192/192 [==============================] - 0s 1ms/step - loss: 0.1074 - val_loss: 0.1105\n",
      "Epoch 46/100\n",
      "192/192 [==============================] - 0s 1ms/step - loss: 0.1074 - val_loss: 0.1104\n",
      "Epoch 47/100\n",
      "192/192 [==============================] - 0s 1ms/step - loss: 0.1073 - val_loss: 0.1103\n",
      "Epoch 48/100\n",
      "192/192 [==============================] - 0s 1ms/step - loss: 0.1074 - val_loss: 0.1103\n",
      "Epoch 49/100\n",
      "192/192 [==============================] - 0s 1ms/step - loss: 0.1073 - val_loss: 0.1103\n",
      "Epoch 50/100\n",
      "192/192 [==============================] - 0s 1ms/step - loss: 0.1073 - val_loss: 0.1103\n",
      "Epoch 51/100\n",
      "192/192 [==============================] - 0s 1ms/step - loss: 0.1073 - val_loss: 0.1103\n",
      "Epoch 52/100\n",
      "192/192 [==============================] - 0s 1ms/step - loss: 0.1073 - val_loss: 0.1102\n",
      "Epoch 53/100\n",
      "192/192 [==============================] - 0s 1ms/step - loss: 0.1073 - val_loss: 0.1102\n",
      "Epoch 54/100\n",
      "192/192 [==============================] - 0s 1ms/step - loss: 0.1072 - val_loss: 0.1102\n",
      "Epoch 55/100\n",
      "192/192 [==============================] - 0s 1ms/step - loss: 0.1072 - val_loss: 0.1103\n",
      "Epoch 56/100\n",
      "192/192 [==============================] - 0s 1ms/step - loss: 0.1072 - val_loss: 0.1102\n",
      "Epoch 57/100\n",
      "192/192 [==============================] - 0s 1ms/step - loss: 0.1072 - val_loss: 0.1103\n",
      "Epoch 58/100\n",
      "192/192 [==============================] - 0s 1ms/step - loss: 0.1072 - val_loss: 0.1102\n",
      "Epoch 59/100\n",
      "192/192 [==============================] - 0s 1ms/step - loss: 0.1072 - val_loss: 0.1102\n",
      "Epoch 60/100\n",
      "192/192 [==============================] - 0s 1ms/step - loss: 0.1071 - val_loss: 0.1103\n",
      "Epoch 61/100\n",
      "192/192 [==============================] - 0s 1ms/step - loss: 0.1071 - val_loss: 0.1101\n",
      "Epoch 62/100\n",
      "192/192 [==============================] - 0s 1ms/step - loss: 0.1072 - val_loss: 0.1101\n",
      "Epoch 63/100\n",
      "192/192 [==============================] - 0s 981us/step - loss: 0.1071 - val_loss: 0.1101\n",
      "Epoch 64/100\n",
      "192/192 [==============================] - 0s 1ms/step - loss: 0.1071 - val_loss: 0.1102\n",
      "Epoch 65/100\n",
      "192/192 [==============================] - 0s 1ms/step - loss: 0.1071 - val_loss: 0.1100\n",
      "Epoch 66/100\n",
      "192/192 [==============================] - 0s 1ms/step - loss: 0.1071 - val_loss: 0.1100\n",
      "Epoch 67/100\n",
      "192/192 [==============================] - 0s 1ms/step - loss: 0.1071 - val_loss: 0.1101\n",
      "Epoch 68/100\n",
      "192/192 [==============================] - 0s 1ms/step - loss: 0.1071 - val_loss: 0.1100\n",
      "Epoch 69/100\n",
      "192/192 [==============================] - 0s 1ms/step - loss: 0.1071 - val_loss: 0.1101\n",
      "Epoch 70/100\n",
      "192/192 [==============================] - 0s 967us/step - loss: 0.1071 - val_loss: 0.1100\n",
      "Epoch 71/100\n",
      "192/192 [==============================] - 0s 1ms/step - loss: 0.1071 - val_loss: 0.1102\n",
      "Epoch 72/100\n",
      "192/192 [==============================] - 0s 1ms/step - loss: 0.1071 - val_loss: 0.1100\n",
      "Epoch 73/100\n",
      "192/192 [==============================] - 0s 1ms/step - loss: 0.1070 - val_loss: 0.1102\n",
      "Epoch 74/100\n",
      "192/192 [==============================] - 0s 1ms/step - loss: 0.1071 - val_loss: 0.1102\n",
      "Epoch 75/100\n",
      "192/192 [==============================] - 0s 1ms/step - loss: 0.1071 - val_loss: 0.1101\n",
      "Epoch 76/100\n",
      "192/192 [==============================] - 0s 1ms/step - loss: 0.1071 - val_loss: 0.1100\n",
      "Epoch 77/100\n",
      "192/192 [==============================] - 0s 1ms/step - loss: 0.1070 - val_loss: 0.1102\n",
      "Epoch 78/100\n",
      "192/192 [==============================] - 0s 1ms/step - loss: 0.1071 - val_loss: 0.1100\n",
      "Epoch 79/100\n",
      "192/192 [==============================] - 0s 1ms/step - loss: 0.1070 - val_loss: 0.1100\n",
      "Epoch 80/100\n",
      "192/192 [==============================] - 0s 1ms/step - loss: 0.1070 - val_loss: 0.1103\n",
      "Epoch 81/100\n"
     ]
    },
    {
     "name": "stdout",
     "output_type": "stream",
     "text": [
      "192/192 [==============================] - 0s 1ms/step - loss: 0.1070 - val_loss: 0.1101\n",
      "Epoch 82/100\n",
      "192/192 [==============================] - 0s 1ms/step - loss: 0.1070 - val_loss: 0.1100\n",
      "Epoch 83/100\n",
      "192/192 [==============================] - 0s 1ms/step - loss: 0.1071 - val_loss: 0.1100\n",
      "Epoch 84/100\n",
      "192/192 [==============================] - 0s 1ms/step - loss: 0.1070 - val_loss: 0.1100\n",
      "Epoch 85/100\n",
      "192/192 [==============================] - 0s 1ms/step - loss: 0.1070 - val_loss: 0.1103\n",
      "Epoch 86/100\n",
      "192/192 [==============================] - 0s 1ms/step - loss: 0.1070 - val_loss: 0.1101\n",
      "Epoch 87/100\n",
      "192/192 [==============================] - 0s 1ms/step - loss: 0.1070 - val_loss: 0.1100\n",
      "Epoch 88/100\n",
      "192/192 [==============================] - 0s 1ms/step - loss: 0.1070 - val_loss: 0.1101\n",
      "Epoch 89/100\n",
      "192/192 [==============================] - 0s 1ms/step - loss: 0.1070 - val_loss: 0.1101\n",
      "Epoch 90/100\n",
      "192/192 [==============================] - 0s 1ms/step - loss: 0.1070 - val_loss: 0.1100\n",
      "Epoch 91/100\n",
      "192/192 [==============================] - 0s 1ms/step - loss: 0.1070 - val_loss: 0.1101\n",
      "Epoch 92/100\n",
      "192/192 [==============================] - 0s 980us/step - loss: 0.1070 - val_loss: 0.1101\n",
      "Epoch 93/100\n",
      "192/192 [==============================] - 0s 1ms/step - loss: 0.1070 - val_loss: 0.1101\n",
      "Epoch 94/100\n",
      "192/192 [==============================] - 0s 1ms/step - loss: 0.1070 - val_loss: 0.1101\n",
      "Epoch 95/100\n",
      "192/192 [==============================] - 0s 1ms/step - loss: 0.1070 - val_loss: 0.1101\n",
      "Epoch 96/100\n",
      "192/192 [==============================] - 0s 1ms/step - loss: 0.1070 - val_loss: 0.1100\n",
      "Epoch 97/100\n",
      "192/192 [==============================] - 0s 1ms/step - loss: 0.1070 - val_loss: 0.1100\n",
      "Epoch 98/100\n",
      "192/192 [==============================] - 0s 1ms/step - loss: 0.1070 - val_loss: 0.1100\n",
      "Epoch 99/100\n",
      "192/192 [==============================] - 0s 954us/step - loss: 0.1070 - val_loss: 0.1101\n",
      "Epoch 100/100\n",
      "192/192 [==============================] - 0s 969us/step - loss: 0.1069 - val_loss: 0.1101\n"
     ]
    }
   ],
   "source": [
    "# baseline model\n",
    "\n",
    "model = Sequential()\n",
    "model.add(Dense(9, input_dim=9,\n",
    "                kernel_initializer='normal',\n",
    "                activation=\"relu\"))\n",
    "model.add(Dense(1, activation='sigmoid'))\n",
    "model.compile(loss=\"binary_crossentropy\", optimizer='adam')\n",
    "\n",
    "history = model.fit(X_train_scaled, y_train, validation_split=0.2, epochs=100, batch_size=500)"
   ]
  },
  {
   "cell_type": "code",
   "execution_count": 111,
   "id": "bde6578f",
   "metadata": {},
   "outputs": [
    {
     "data": {
      "text/plain": [
       "0.9238251418845075"
      ]
     },
     "execution_count": 111,
     "metadata": {},
     "output_type": "execute_result"
    }
   ],
   "source": [
    "#predict probability and find AUC\n",
    "\n",
    "y_pred_proba = model.predict(X_test_scaled)\n",
    "y_pred_proba = y_pred_proba[:,0]\n",
    "\n",
    "auc_score = roc_auc_score(y_test, y_pred_proba)\n",
    "auc_score"
   ]
  },
  {
   "cell_type": "code",
   "execution_count": 112,
   "id": "84ca154f",
   "metadata": {},
   "outputs": [
    {
     "name": "stdout",
     "output_type": "stream",
     "text": [
      "Epoch 1/100\n",
      "192/192 [==============================] - 1s 1ms/step - loss: 0.5182 - val_loss: 0.3925\n",
      "Epoch 2/100\n",
      "192/192 [==============================] - 0s 966us/step - loss: 0.2890 - val_loss: 0.2096\n",
      "Epoch 3/100\n",
      "192/192 [==============================] - 0s 1ms/step - loss: 0.1791 - val_loss: 0.1587\n",
      "Epoch 4/100\n",
      "192/192 [==============================] - 0s 1ms/step - loss: 0.1490 - val_loss: 0.1418\n",
      "Epoch 5/100\n",
      "192/192 [==============================] - 0s 1ms/step - loss: 0.1376 - val_loss: 0.1347\n",
      "Epoch 6/100\n",
      "192/192 [==============================] - 0s 935us/step - loss: 0.1323 - val_loss: 0.1313\n",
      "Epoch 7/100\n",
      "192/192 [==============================] - 0s 956us/step - loss: 0.1294 - val_loss: 0.1285\n",
      "Epoch 8/100\n",
      "192/192 [==============================] - 0s 949us/step - loss: 0.1213 - val_loss: 0.1181\n",
      "Epoch 9/100\n",
      "192/192 [==============================] - 0s 945us/step - loss: 0.1155 - val_loss: 0.1166\n",
      "Epoch 10/100\n",
      "192/192 [==============================] - 0s 978us/step - loss: 0.1144 - val_loss: 0.1161\n",
      "Epoch 11/100\n",
      "192/192 [==============================] - 0s 1ms/step - loss: 0.1138 - val_loss: 0.1158\n",
      "Epoch 12/100\n",
      "192/192 [==============================] - 0s 1ms/step - loss: 0.1134 - val_loss: 0.1155\n",
      "Epoch 13/100\n",
      "192/192 [==============================] - 0s 970us/step - loss: 0.1130 - val_loss: 0.1154\n",
      "Epoch 14/100\n",
      "192/192 [==============================] - 0s 900us/step - loss: 0.1129 - val_loss: 0.1152\n",
      "Epoch 15/100\n",
      "192/192 [==============================] - 0s 1ms/step - loss: 0.1126 - val_loss: 0.1151\n",
      "Epoch 16/100\n",
      "192/192 [==============================] - 0s 1ms/step - loss: 0.1125 - val_loss: 0.1150\n",
      "Epoch 17/100\n",
      "192/192 [==============================] - 0s 1ms/step - loss: 0.1123 - val_loss: 0.1150\n",
      "Epoch 18/100\n",
      "192/192 [==============================] - 0s 1ms/step - loss: 0.1122 - val_loss: 0.1147\n",
      "Epoch 19/100\n",
      "192/192 [==============================] - 0s 1ms/step - loss: 0.1121 - val_loss: 0.1148\n",
      "Epoch 20/100\n",
      "192/192 [==============================] - 0s 1ms/step - loss: 0.1119 - val_loss: 0.1146\n",
      "Epoch 21/100\n",
      "192/192 [==============================] - 0s 1ms/step - loss: 0.1118 - val_loss: 0.1146\n",
      "Epoch 22/100\n",
      "192/192 [==============================] - 0s 1ms/step - loss: 0.1117 - val_loss: 0.1146\n",
      "Epoch 23/100\n",
      "192/192 [==============================] - 0s 1ms/step - loss: 0.1115 - val_loss: 0.1144\n",
      "Epoch 24/100\n",
      "192/192 [==============================] - 0s 1ms/step - loss: 0.1113 - val_loss: 0.1143\n",
      "Epoch 25/100\n",
      "192/192 [==============================] - 0s 1ms/step - loss: 0.1112 - val_loss: 0.1142\n",
      "Epoch 26/100\n",
      "192/192 [==============================] - 0s 1ms/step - loss: 0.1111 - val_loss: 0.1141\n",
      "Epoch 27/100\n",
      "192/192 [==============================] - 0s 1ms/step - loss: 0.1109 - val_loss: 0.1140\n",
      "Epoch 28/100\n",
      "192/192 [==============================] - 0s 1ms/step - loss: 0.1107 - val_loss: 0.1139\n",
      "Epoch 29/100\n",
      "192/192 [==============================] - 0s 1ms/step - loss: 0.1106 - val_loss: 0.1139\n",
      "Epoch 30/100\n",
      "192/192 [==============================] - 0s 1ms/step - loss: 0.1105 - val_loss: 0.1137\n",
      "Epoch 31/100\n",
      "192/192 [==============================] - 0s 1ms/step - loss: 0.1104 - val_loss: 0.1135\n",
      "Epoch 32/100\n",
      "192/192 [==============================] - 0s 1ms/step - loss: 0.1103 - val_loss: 0.1135\n",
      "Epoch 33/100\n",
      "192/192 [==============================] - 0s 1ms/step - loss: 0.1102 - val_loss: 0.1137\n",
      "Epoch 34/100\n",
      "192/192 [==============================] - 0s 1ms/step - loss: 0.1101 - val_loss: 0.1134\n",
      "Epoch 35/100\n",
      "192/192 [==============================] - 0s 1ms/step - loss: 0.1101 - val_loss: 0.1133\n",
      "Epoch 36/100\n",
      "192/192 [==============================] - 0s 1ms/step - loss: 0.1100 - val_loss: 0.1132\n",
      "Epoch 37/100\n",
      "192/192 [==============================] - 0s 1ms/step - loss: 0.1099 - val_loss: 0.1132\n",
      "Epoch 38/100\n",
      "192/192 [==============================] - 0s 1ms/step - loss: 0.1099 - val_loss: 0.1130\n",
      "Epoch 39/100\n",
      "192/192 [==============================] - 0s 1ms/step - loss: 0.1098 - val_loss: 0.1130\n",
      "Epoch 40/100\n",
      "192/192 [==============================] - 0s 1ms/step - loss: 0.1097 - val_loss: 0.1129\n",
      "Epoch 41/100\n",
      "192/192 [==============================] - 0s 1ms/step - loss: 0.1097 - val_loss: 0.1129\n",
      "Epoch 42/100\n",
      "192/192 [==============================] - 0s 1ms/step - loss: 0.1097 - val_loss: 0.1129\n",
      "Epoch 43/100\n",
      "192/192 [==============================] - 0s 1ms/step - loss: 0.1096 - val_loss: 0.1128\n",
      "Epoch 44/100\n",
      "192/192 [==============================] - 0s 1ms/step - loss: 0.1095 - val_loss: 0.1127\n",
      "Epoch 45/100\n",
      "192/192 [==============================] - 0s 1ms/step - loss: 0.1095 - val_loss: 0.1127\n",
      "Epoch 46/100\n",
      "192/192 [==============================] - 0s 1ms/step - loss: 0.1094 - val_loss: 0.1126\n",
      "Epoch 47/100\n",
      "192/192 [==============================] - 0s 1ms/step - loss: 0.1094 - val_loss: 0.1126\n",
      "Epoch 48/100\n",
      "192/192 [==============================] - 0s 1ms/step - loss: 0.1093 - val_loss: 0.1126\n",
      "Epoch 49/100\n",
      "192/192 [==============================] - 0s 1ms/step - loss: 0.1093 - val_loss: 0.1125\n",
      "Epoch 50/100\n",
      "192/192 [==============================] - 0s 1ms/step - loss: 0.1093 - val_loss: 0.1124\n",
      "Epoch 51/100\n",
      "192/192 [==============================] - 0s 1ms/step - loss: 0.1093 - val_loss: 0.1123\n",
      "Epoch 52/100\n",
      "192/192 [==============================] - 0s 1ms/step - loss: 0.1092 - val_loss: 0.1123\n",
      "Epoch 53/100\n",
      "192/192 [==============================] - 0s 1ms/step - loss: 0.1092 - val_loss: 0.1122\n",
      "Epoch 54/100\n",
      "192/192 [==============================] - 0s 1ms/step - loss: 0.1091 - val_loss: 0.1122\n",
      "Epoch 55/100\n",
      "192/192 [==============================] - 0s 1ms/step - loss: 0.1091 - val_loss: 0.1122\n",
      "Epoch 56/100\n",
      "192/192 [==============================] - 0s 1ms/step - loss: 0.1091 - val_loss: 0.1121\n",
      "Epoch 57/100\n",
      "192/192 [==============================] - 0s 1ms/step - loss: 0.1091 - val_loss: 0.1121\n",
      "Epoch 58/100\n",
      "192/192 [==============================] - 0s 1ms/step - loss: 0.1091 - val_loss: 0.1120\n",
      "Epoch 59/100\n",
      "192/192 [==============================] - 0s 1ms/step - loss: 0.1090 - val_loss: 0.1120\n",
      "Epoch 60/100\n",
      "192/192 [==============================] - 0s 1ms/step - loss: 0.1090 - val_loss: 0.1120\n",
      "Epoch 61/100\n",
      "192/192 [==============================] - 0s 1ms/step - loss: 0.1090 - val_loss: 0.1121\n",
      "Epoch 62/100\n",
      "192/192 [==============================] - 0s 1ms/step - loss: 0.1089 - val_loss: 0.1121\n",
      "Epoch 63/100\n",
      "192/192 [==============================] - 0s 1ms/step - loss: 0.1089 - val_loss: 0.1119\n",
      "Epoch 64/100\n",
      "192/192 [==============================] - 0s 1ms/step - loss: 0.1089 - val_loss: 0.1117\n",
      "Epoch 65/100\n",
      "192/192 [==============================] - 0s 1ms/step - loss: 0.1089 - val_loss: 0.1118\n",
      "Epoch 66/100\n",
      "192/192 [==============================] - 0s 1ms/step - loss: 0.1089 - val_loss: 0.1117\n",
      "Epoch 67/100\n",
      "192/192 [==============================] - 0s 1ms/step - loss: 0.1089 - val_loss: 0.1117\n",
      "Epoch 68/100\n",
      "192/192 [==============================] - 0s 1ms/step - loss: 0.1089 - val_loss: 0.1118\n",
      "Epoch 69/100\n",
      "192/192 [==============================] - 0s 1ms/step - loss: 0.1088 - val_loss: 0.1116\n",
      "Epoch 70/100\n",
      "192/192 [==============================] - 0s 1ms/step - loss: 0.1088 - val_loss: 0.1116\n",
      "Epoch 71/100\n",
      "192/192 [==============================] - 0s 1ms/step - loss: 0.1088 - val_loss: 0.1116\n",
      "Epoch 72/100\n",
      "192/192 [==============================] - 0s 1ms/step - loss: 0.1088 - val_loss: 0.1116\n",
      "Epoch 73/100\n",
      "192/192 [==============================] - 0s 1ms/step - loss: 0.1088 - val_loss: 0.1115\n",
      "Epoch 74/100\n",
      "192/192 [==============================] - 0s 1ms/step - loss: 0.1087 - val_loss: 0.1115\n",
      "Epoch 75/100\n",
      "192/192 [==============================] - 0s 1ms/step - loss: 0.1087 - val_loss: 0.1115\n",
      "Epoch 76/100\n",
      "192/192 [==============================] - 0s 994us/step - loss: 0.1087 - val_loss: 0.1115\n",
      "Epoch 77/100\n",
      "192/192 [==============================] - 0s 946us/step - loss: 0.1087 - val_loss: 0.1115\n",
      "Epoch 78/100\n",
      "192/192 [==============================] - 0s 1ms/step - loss: 0.1086 - val_loss: 0.1114\n",
      "Epoch 79/100\n",
      "192/192 [==============================] - 0s 1ms/step - loss: 0.1086 - val_loss: 0.1114\n",
      "Epoch 80/100\n",
      "192/192 [==============================] - 0s 1ms/step - loss: 0.1086 - val_loss: 0.1114\n",
      "Epoch 81/100\n"
     ]
    },
    {
     "name": "stdout",
     "output_type": "stream",
     "text": [
      "192/192 [==============================] - 0s 1ms/step - loss: 0.1086 - val_loss: 0.1113\n",
      "Epoch 82/100\n",
      "192/192 [==============================] - 0s 932us/step - loss: 0.1086 - val_loss: 0.1113\n",
      "Epoch 83/100\n",
      "192/192 [==============================] - 0s 996us/step - loss: 0.1086 - val_loss: 0.1113\n",
      "Epoch 84/100\n",
      "192/192 [==============================] - 0s 940us/step - loss: 0.1085 - val_loss: 0.1113\n",
      "Epoch 85/100\n",
      "192/192 [==============================] - 0s 905us/step - loss: 0.1085 - val_loss: 0.1112\n",
      "Epoch 86/100\n",
      "192/192 [==============================] - 0s 970us/step - loss: 0.1085 - val_loss: 0.1112\n",
      "Epoch 87/100\n",
      "192/192 [==============================] - 0s 891us/step - loss: 0.1085 - val_loss: 0.1112\n",
      "Epoch 88/100\n",
      "192/192 [==============================] - 0s 1ms/step - loss: 0.1084 - val_loss: 0.1112\n",
      "Epoch 89/100\n",
      "192/192 [==============================] - 0s 892us/step - loss: 0.1085 - val_loss: 0.1111\n",
      "Epoch 90/100\n",
      "192/192 [==============================] - 0s 902us/step - loss: 0.1084 - val_loss: 0.1111\n",
      "Epoch 91/100\n",
      "192/192 [==============================] - 0s 891us/step - loss: 0.1084 - val_loss: 0.1111\n",
      "Epoch 92/100\n",
      "192/192 [==============================] - 0s 858us/step - loss: 0.1084 - val_loss: 0.1111\n",
      "Epoch 93/100\n",
      "192/192 [==============================] - 0s 959us/step - loss: 0.1084 - val_loss: 0.1111\n",
      "Epoch 94/100\n",
      "192/192 [==============================] - 0s 1ms/step - loss: 0.1084 - val_loss: 0.1111\n",
      "Epoch 95/100\n",
      "192/192 [==============================] - 0s 830us/step - loss: 0.1083 - val_loss: 0.1111\n",
      "Epoch 96/100\n",
      "192/192 [==============================] - 0s 981us/step - loss: 0.1084 - val_loss: 0.1110\n",
      "Epoch 97/100\n",
      "192/192 [==============================] - 0s 1ms/step - loss: 0.1084 - val_loss: 0.1110\n",
      "Epoch 98/100\n",
      "192/192 [==============================] - 0s 1ms/step - loss: 0.1083 - val_loss: 0.1110\n",
      "Epoch 99/100\n",
      "192/192 [==============================] - 0s 1ms/step - loss: 0.1083 - val_loss: 0.1111\n",
      "Epoch 100/100\n",
      "192/192 [==============================] - 0s 966us/step - loss: 0.1083 - val_loss: 0.1110\n"
     ]
    }
   ],
   "source": [
    "#smaller model\n",
    "\n",
    "model = Sequential()\n",
    "model.add(Dense(5, input_dim=9,\n",
    "                kernel_initializer='normal',\n",
    "                activation=\"relu\"))\n",
    "model.add(Dense(1, activation='sigmoid'))\n",
    "model.compile(loss=\"binary_crossentropy\", optimizer='adam')\n",
    "\n",
    "history = model.fit(X_train_scaled, y_train, validation_split=0.2, epochs=100, batch_size=500)"
   ]
  },
  {
   "cell_type": "code",
   "execution_count": 113,
   "id": "f265a167",
   "metadata": {},
   "outputs": [
    {
     "data": {
      "text/plain": [
       "0.9234949938111601"
      ]
     },
     "execution_count": 113,
     "metadata": {},
     "output_type": "execute_result"
    }
   ],
   "source": [
    "#predict probability and find AUC\n",
    "\n",
    "y_pred_proba = model.predict(X_test_scaled)\n",
    "y_pred_proba = y_pred_proba[:,0]\n",
    "\n",
    "auc_score = roc_auc_score(y_test, y_pred_proba)\n",
    "auc_score"
   ]
  },
  {
   "cell_type": "code",
   "execution_count": 116,
   "id": "51615474",
   "metadata": {
    "scrolled": true
   },
   "outputs": [
    {
     "name": "stdout",
     "output_type": "stream",
     "text": [
      "Epoch 1/100\n",
      "192/192 [==============================] - 0s 1ms/step - loss: 0.3616 - val_loss: 0.1804\n",
      "Epoch 2/100\n",
      "192/192 [==============================] - 0s 910us/step - loss: 0.1452 - val_loss: 0.1278\n",
      "Epoch 3/100\n",
      "192/192 [==============================] - 0s 928us/step - loss: 0.1214 - val_loss: 0.1186\n",
      "Epoch 4/100\n",
      "192/192 [==============================] - 0s 931us/step - loss: 0.1158 - val_loss: 0.1160\n",
      "Epoch 5/100\n",
      "192/192 [==============================] - 0s 974us/step - loss: 0.1134 - val_loss: 0.1148\n",
      "Epoch 6/100\n",
      "192/192 [==============================] - 0s 962us/step - loss: 0.1120 - val_loss: 0.1141\n",
      "Epoch 7/100\n",
      "192/192 [==============================] - 0s 896us/step - loss: 0.1112 - val_loss: 0.1135\n",
      "Epoch 8/100\n",
      "192/192 [==============================] - 0s 947us/step - loss: 0.1106 - val_loss: 0.1130\n",
      "Epoch 9/100\n",
      "192/192 [==============================] - 0s 904us/step - loss: 0.1101 - val_loss: 0.1126\n",
      "Epoch 10/100\n",
      "192/192 [==============================] - 0s 933us/step - loss: 0.1097 - val_loss: 0.1122\n",
      "Epoch 11/100\n",
      "192/192 [==============================] - 0s 933us/step - loss: 0.1093 - val_loss: 0.1114\n",
      "Epoch 12/100\n",
      "192/192 [==============================] - 0s 926us/step - loss: 0.1085 - val_loss: 0.1105\n",
      "Epoch 13/100\n",
      "192/192 [==============================] - 0s 898us/step - loss: 0.1078 - val_loss: 0.1096\n",
      "Epoch 14/100\n",
      "192/192 [==============================] - 0s 905us/step - loss: 0.1070 - val_loss: 0.1090\n",
      "Epoch 15/100\n",
      "192/192 [==============================] - 0s 897us/step - loss: 0.1066 - val_loss: 0.1087\n",
      "Epoch 16/100\n",
      "192/192 [==============================] - 0s 907us/step - loss: 0.1063 - val_loss: 0.1085\n",
      "Epoch 17/100\n",
      "192/192 [==============================] - 0s 904us/step - loss: 0.1060 - val_loss: 0.1080\n",
      "Epoch 18/100\n",
      "192/192 [==============================] - 0s 918us/step - loss: 0.1057 - val_loss: 0.1078\n",
      "Epoch 19/100\n",
      "192/192 [==============================] - 0s 913us/step - loss: 0.1054 - val_loss: 0.1079\n",
      "Epoch 20/100\n",
      "192/192 [==============================] - 0s 902us/step - loss: 0.1053 - val_loss: 0.1080\n",
      "Epoch 21/100\n",
      "192/192 [==============================] - 0s 903us/step - loss: 0.1052 - val_loss: 0.1076\n",
      "Epoch 22/100\n",
      "192/192 [==============================] - 0s 909us/step - loss: 0.1049 - val_loss: 0.1076\n",
      "Epoch 23/100\n",
      "192/192 [==============================] - 0s 899us/step - loss: 0.1049 - val_loss: 0.1074\n",
      "Epoch 24/100\n",
      "192/192 [==============================] - 0s 893us/step - loss: 0.1046 - val_loss: 0.1073\n",
      "Epoch 25/100\n",
      "192/192 [==============================] - 0s 900us/step - loss: 0.1046 - val_loss: 0.1072\n",
      "Epoch 26/100\n",
      "192/192 [==============================] - 0s 899us/step - loss: 0.1044 - val_loss: 0.1072\n",
      "Epoch 27/100\n",
      "192/192 [==============================] - 0s 909us/step - loss: 0.1044 - val_loss: 0.1072\n",
      "Epoch 28/100\n",
      "192/192 [==============================] - 0s 898us/step - loss: 0.1042 - val_loss: 0.1069\n",
      "Epoch 29/100\n",
      "192/192 [==============================] - 0s 904us/step - loss: 0.1041 - val_loss: 0.1070\n",
      "Epoch 30/100\n",
      "192/192 [==============================] - 0s 904us/step - loss: 0.1040 - val_loss: 0.1070\n",
      "Epoch 31/100\n",
      "192/192 [==============================] - 0s 906us/step - loss: 0.1039 - val_loss: 0.1069\n",
      "Epoch 32/100\n",
      "192/192 [==============================] - 0s 906us/step - loss: 0.1039 - val_loss: 0.1069\n",
      "Epoch 33/100\n",
      "192/192 [==============================] - 0s 915us/step - loss: 0.1037 - val_loss: 0.1069\n",
      "Epoch 34/100\n",
      "192/192 [==============================] - 0s 903us/step - loss: 0.1037 - val_loss: 0.1067\n",
      "Epoch 35/100\n",
      "192/192 [==============================] - 0s 907us/step - loss: 0.1037 - val_loss: 0.1065\n",
      "Epoch 36/100\n",
      "192/192 [==============================] - 0s 895us/step - loss: 0.1035 - val_loss: 0.1070\n",
      "Epoch 37/100\n",
      "192/192 [==============================] - 0s 958us/step - loss: 0.1035 - val_loss: 0.1066\n",
      "Epoch 38/100\n",
      "192/192 [==============================] - 0s 895us/step - loss: 0.1035 - val_loss: 0.1064\n",
      "Epoch 39/100\n",
      "192/192 [==============================] - 0s 908us/step - loss: 0.1033 - val_loss: 0.1065\n",
      "Epoch 40/100\n",
      "192/192 [==============================] - 0s 898us/step - loss: 0.1033 - val_loss: 0.1066\n",
      "Epoch 41/100\n",
      "192/192 [==============================] - 0s 895us/step - loss: 0.1033 - val_loss: 0.1064\n",
      "Epoch 42/100\n",
      "192/192 [==============================] - 0s 895us/step - loss: 0.1032 - val_loss: 0.1062\n",
      "Epoch 43/100\n",
      "192/192 [==============================] - 0s 917us/step - loss: 0.1032 - val_loss: 0.1061\n",
      "Epoch 44/100\n",
      "192/192 [==============================] - 0s 902us/step - loss: 0.1032 - val_loss: 0.1064\n",
      "Epoch 45/100\n",
      "192/192 [==============================] - 0s 928us/step - loss: 0.1031 - val_loss: 0.1063\n",
      "Epoch 46/100\n",
      "192/192 [==============================] - 0s 905us/step - loss: 0.1031 - val_loss: 0.1062\n",
      "Epoch 47/100\n",
      "192/192 [==============================] - 0s 902us/step - loss: 0.1030 - val_loss: 0.1060\n",
      "Epoch 48/100\n",
      "192/192 [==============================] - 0s 928us/step - loss: 0.1031 - val_loss: 0.1061\n",
      "Epoch 49/100\n",
      "192/192 [==============================] - 0s 992us/step - loss: 0.1030 - val_loss: 0.1060\n",
      "Epoch 50/100\n",
      "192/192 [==============================] - 0s 951us/step - loss: 0.1029 - val_loss: 0.1063\n",
      "Epoch 51/100\n",
      "192/192 [==============================] - 0s 932us/step - loss: 0.1030 - val_loss: 0.1061\n",
      "Epoch 52/100\n",
      "192/192 [==============================] - 0s 913us/step - loss: 0.1029 - val_loss: 0.1068\n",
      "Epoch 53/100\n",
      "192/192 [==============================] - 0s 905us/step - loss: 0.1029 - val_loss: 0.1062\n",
      "Epoch 54/100\n",
      "192/192 [==============================] - 0s 899us/step - loss: 0.1028 - val_loss: 0.1061\n",
      "Epoch 55/100\n",
      "192/192 [==============================] - 0s 988us/step - loss: 0.1029 - val_loss: 0.1060\n",
      "Epoch 56/100\n",
      "192/192 [==============================] - 0s 919us/step - loss: 0.1028 - val_loss: 0.1062\n",
      "Epoch 57/100\n",
      "192/192 [==============================] - 0s 902us/step - loss: 0.1028 - val_loss: 0.1059\n",
      "Epoch 58/100\n",
      "192/192 [==============================] - 0s 907us/step - loss: 0.1028 - val_loss: 0.1058\n",
      "Epoch 59/100\n",
      "192/192 [==============================] - 0s 906us/step - loss: 0.1028 - val_loss: 0.1059\n",
      "Epoch 60/100\n",
      "192/192 [==============================] - 0s 902us/step - loss: 0.1027 - val_loss: 0.1062\n",
      "Epoch 61/100\n",
      "192/192 [==============================] - 0s 935us/step - loss: 0.1027 - val_loss: 0.1060\n",
      "Epoch 62/100\n",
      "192/192 [==============================] - 0s 890us/step - loss: 0.1027 - val_loss: 0.1058\n",
      "Epoch 63/100\n",
      "192/192 [==============================] - 0s 920us/step - loss: 0.1027 - val_loss: 0.1061\n",
      "Epoch 64/100\n",
      "192/192 [==============================] - 0s 912us/step - loss: 0.1028 - val_loss: 0.1057\n",
      "Epoch 65/100\n",
      "192/192 [==============================] - 0s 892us/step - loss: 0.1027 - val_loss: 0.1058\n",
      "Epoch 66/100\n",
      "192/192 [==============================] - 0s 905us/step - loss: 0.1027 - val_loss: 0.1055\n",
      "Epoch 67/100\n",
      "192/192 [==============================] - 0s 909us/step - loss: 0.1027 - val_loss: 0.1055\n",
      "Epoch 68/100\n",
      "192/192 [==============================] - 0s 907us/step - loss: 0.1026 - val_loss: 0.1056\n",
      "Epoch 69/100\n",
      "192/192 [==============================] - 0s 907us/step - loss: 0.1026 - val_loss: 0.1054\n",
      "Epoch 70/100\n",
      "192/192 [==============================] - 0s 906us/step - loss: 0.1025 - val_loss: 0.1059\n",
      "Epoch 71/100\n",
      "192/192 [==============================] - 0s 909us/step - loss: 0.1026 - val_loss: 0.1059\n",
      "Epoch 72/100\n",
      "192/192 [==============================] - 0s 916us/step - loss: 0.1025 - val_loss: 0.1055\n",
      "Epoch 73/100\n",
      "192/192 [==============================] - 0s 915us/step - loss: 0.1026 - val_loss: 0.1056\n",
      "Epoch 74/100\n",
      "192/192 [==============================] - 0s 893us/step - loss: 0.1026 - val_loss: 0.1054\n",
      "Epoch 75/100\n",
      "192/192 [==============================] - 0s 909us/step - loss: 0.1025 - val_loss: 0.1055\n",
      "Epoch 76/100\n",
      "192/192 [==============================] - 0s 909us/step - loss: 0.1025 - val_loss: 0.1054\n",
      "Epoch 77/100\n",
      "192/192 [==============================] - 0s 911us/step - loss: 0.1025 - val_loss: 0.1054\n",
      "Epoch 78/100\n",
      "192/192 [==============================] - 0s 893us/step - loss: 0.1024 - val_loss: 0.1054\n",
      "Epoch 79/100\n",
      "192/192 [==============================] - 0s 913us/step - loss: 0.1024 - val_loss: 0.1054\n"
     ]
    },
    {
     "name": "stdout",
     "output_type": "stream",
     "text": [
      "Epoch 80/100\n",
      "192/192 [==============================] - 0s 893us/step - loss: 0.1025 - val_loss: 0.1054\n",
      "Epoch 81/100\n",
      "192/192 [==============================] - 0s 875us/step - loss: 0.1025 - val_loss: 0.1055\n",
      "Epoch 82/100\n",
      "192/192 [==============================] - 0s 890us/step - loss: 0.1024 - val_loss: 0.1053\n",
      "Epoch 83/100\n",
      "192/192 [==============================] - 0s 884us/step - loss: 0.1024 - val_loss: 0.1053\n",
      "Epoch 84/100\n",
      "192/192 [==============================] - 0s 893us/step - loss: 0.1024 - val_loss: 0.1054\n",
      "Epoch 85/100\n",
      "192/192 [==============================] - 0s 871us/step - loss: 0.1024 - val_loss: 0.1055\n",
      "Epoch 86/100\n",
      "192/192 [==============================] - 0s 887us/step - loss: 0.1023 - val_loss: 0.1055\n",
      "Epoch 87/100\n",
      "192/192 [==============================] - 0s 890us/step - loss: 0.1024 - val_loss: 0.1054\n",
      "Epoch 88/100\n",
      "192/192 [==============================] - 0s 885us/step - loss: 0.1023 - val_loss: 0.1053\n",
      "Epoch 89/100\n",
      "192/192 [==============================] - 0s 893us/step - loss: 0.1022 - val_loss: 0.1053\n",
      "Epoch 90/100\n",
      "192/192 [==============================] - 0s 905us/step - loss: 0.1023 - val_loss: 0.1055\n",
      "Epoch 91/100\n",
      "192/192 [==============================] - 0s 893us/step - loss: 0.1024 - val_loss: 0.1054\n",
      "Epoch 92/100\n",
      "192/192 [==============================] - 0s 878us/step - loss: 0.1022 - val_loss: 0.1055\n",
      "Epoch 93/100\n",
      "192/192 [==============================] - 0s 892us/step - loss: 0.1023 - val_loss: 0.1053\n",
      "Epoch 94/100\n",
      "192/192 [==============================] - 0s 893us/step - loss: 0.1023 - val_loss: 0.1053\n",
      "Epoch 95/100\n",
      "192/192 [==============================] - 0s 876us/step - loss: 0.1023 - val_loss: 0.1056\n",
      "Epoch 96/100\n",
      "192/192 [==============================] - 0s 898us/step - loss: 0.1022 - val_loss: 0.1051\n",
      "Epoch 97/100\n",
      "192/192 [==============================] - 0s 895us/step - loss: 0.1022 - val_loss: 0.1054\n",
      "Epoch 98/100\n",
      "192/192 [==============================] - 0s 887us/step - loss: 0.1022 - val_loss: 0.1053\n",
      "Epoch 99/100\n",
      "192/192 [==============================] - 0s 885us/step - loss: 0.1022 - val_loss: 0.1051\n",
      "Epoch 100/100\n",
      "192/192 [==============================] - 0s 895us/step - loss: 0.1022 - val_loss: 0.1053\n"
     ]
    }
   ],
   "source": [
    "#larger model\n",
    "\n",
    "model = Sequential()\n",
    "model.add(Dense(9, input_dim=9,\n",
    "                kernel_initializer='normal',\n",
    "                activation=\"relu\"))\n",
    "model.add(Dense(5, activation='relu'))\n",
    "model.add(Dense(1, activation='sigmoid'))\n",
    "model.compile(loss=\"binary_crossentropy\", optimizer='adam')\n",
    "\n",
    "history = model.fit(X_train_scaled, y_train, validation_split=0.2, epochs=100, batch_size=500)"
   ]
  },
  {
   "cell_type": "code",
   "execution_count": 117,
   "id": "ed3b152d",
   "metadata": {},
   "outputs": [
    {
     "data": {
      "text/plain": [
       "0.9298460880922054"
      ]
     },
     "execution_count": 117,
     "metadata": {},
     "output_type": "execute_result"
    }
   ],
   "source": [
    "#predict probability and find AUC\n",
    "\n",
    "y_pred_proba = model.predict(X_test_scaled)\n",
    "y_pred_proba = y_pred_proba[:,0]\n",
    "\n",
    "auc_score = roc_auc_score(y_test, y_pred_proba)\n",
    "auc_score"
   ]
  },
  {
   "cell_type": "code",
   "execution_count": 118,
   "id": "0ca9411e",
   "metadata": {},
   "outputs": [],
   "source": [
    "name = 'nn'\n",
    "predictions[name] = np.where(y_pred_proba > 0.5, 1, 0)\n",
    "pred_probas[name] = y_pred_proba\n",
    "auc_scores[name] = auc_score"
   ]
  },
  {
   "cell_type": "code",
   "execution_count": 119,
   "id": "1523ad0c",
   "metadata": {},
   "outputs": [],
   "source": [
    "#neural network with 1 hidden layer performs the best, with auc=0.93"
   ]
  },
  {
   "cell_type": "code",
   "execution_count": 120,
   "id": "26fdc0f7",
   "metadata": {
    "scrolled": true
   },
   "outputs": [
    {
     "data": {
      "image/png": "[encoded data removed]",
      "text/plain": [
       "<Figure size 576x396 with 1 Axes>"
      ]
     },
     "metadata": {},
     "output_type": "display_data"
    }
   ],
   "source": [
    "#plot the loss\n",
    "plt.figure()\n",
    "plt.plot(history.history['loss'])\n",
    "plt.plot(history.history['val_loss'])\n",
    "plt.title('model loss')\n",
    "plt.ylabel('loss')\n",
    "plt.xlabel('epoch')\n",
    "plt.legend(['train', 'test'], loc='upper right')\n",
    "plt.show()"
   ]
  },
  {
   "cell_type": "code",
   "execution_count": 121,
   "id": "29a74a5d",
   "metadata": {},
   "outputs": [
    {
     "data": {
      "image/png": "[encoded data removed]",
      "text/plain": [
       "<Figure size 576x396 with 1 Axes>"
      ]
     },
     "metadata": {},
     "output_type": "display_data"
    }
   ],
   "source": [
    "#plot roc curve\n",
    "\n",
    "nn_fpr, nn_tpr, nn_thresh = roc_curve(y_test, pred_probas['nn'], pos_label=1)\n",
    "\n",
    "# roc curve for tpr = fpr \n",
    "random_probs = [0 for i in range(len(y_test))]\n",
    "p_fpr, p_tpr, _ = roc_curve(y_test, random_probs, pos_label=1)\n",
    "\n",
    "#plot roc curve\n",
    "import matplotlib.pyplot as plt\n",
    "plt.style.use('seaborn')\n",
    "\n",
    "# plot roc curve\n",
    "plt.plot(nn_fpr, nn_tpr, linestyle='--',color='orange', label='Neural Network')\n",
    "plt.plot(p_fpr, p_tpr, linestyle='--', color='blue')\n",
    "# title\n",
    "plt.title('ROC curve')\n",
    "# x label\n",
    "plt.xlabel('False Positive Rate')\n",
    "# y label\n",
    "plt.ylabel('True Positive rate')\n",
    "\n",
    "plt.legend(loc='best')\n",
    "plt.savefig('ROC',dpi=300)\n",
    "plt.show()"
   ]
  },
  {
   "cell_type": "code",
   "execution_count": 129,
   "id": "f38c14ef",
   "metadata": {},
   "outputs": [],
   "source": [
    "#baseline model - xgboost with a max depth of 2 (stub) vs random forest (many unrelated trees) max depth of 2, 1000 trees\n",
    "\n",
    "model = RandomForestClassifier(max_depth=2, n_estimators=1000, random_state=123)\n",
    "model_fit = model.fit(X_train_scaled, y_train)\n",
    "y_pred = model_fit.predict(X_test_scaled)\n",
    "y_pred_proba = model_fit.predict_proba(X_test_scaled)\n",
    "auc_score = roc_auc_score(y_test, y_pred_proba[:,1])"
   ]
  },
  {
   "cell_type": "code",
   "execution_count": 130,
   "id": "a39f4f3d",
   "metadata": {},
   "outputs": [],
   "source": [
    "name = 'base'\n",
    "predictions[name] = y_pred\n",
    "pred_probas[name] = y_pred_proba[:,1]\n",
    "auc_scores[name] = auc_score"
   ]
  },
  {
   "cell_type": "code",
   "execution_count": 131,
   "id": "0dc64cea",
   "metadata": {},
   "outputs": [
    {
     "data": {
      "image/png": "[encoded data removed]",
      "text/plain": [
       "<Figure size 576x396 with 1 Axes>"
      ]
     },
     "metadata": {},
     "output_type": "display_data"
    }
   ],
   "source": [
    "#plot roc curves of all 3 models\n",
    "\n",
    "base_fpr, base_tpr, base_thresh = roc_curve(y_test, pred_probas['base'], pos_label=1)\n",
    "\n",
    "# plot roc curve\n",
    "plt.plot(xgb_fpr, xgb_tpr, linestyle='--',color='red', label='XGBoost')\n",
    "plt.plot(nn_fpr, nn_tpr, linestyle='--',color='green', label='Neural Network')\n",
    "plt.plot(base_fpr, base_tpr, linestyle='--',color='blue', label='Baseline')\n",
    "\n",
    "# title\n",
    "plt.title('ROC curve')\n",
    "# x label\n",
    "plt.xlabel('False Positive Rate')\n",
    "# y label\n",
    "plt.ylabel('True Positive rate')\n",
    "\n",
    "plt.legend(loc='best')\n",
    "plt.savefig('ROC',dpi=300)\n",
    "plt.show()"
   ]
  },
  {
   "cell_type": "code",
   "execution_count": 132,
   "id": "053d2e05",
   "metadata": {
    "scrolled": true
   },
   "outputs": [
    {
     "data": {
      "text/plain": [
       "{'rf': 0.92547140267348,\n",
       " 'gbm': 0.9256771014795248,\n",
       " 'lr': 0.9137989849808803,\n",
       " 'xgb': 0.9288367998526357,\n",
       " 'nn': 0.9298460880922054,\n",
       " 'base': 0.8942844865135555}"
      ]
     },
     "execution_count": 132,
     "metadata": {},
     "output_type": "execute_result"
    }
   ],
   "source": [
    "auc_scores"
   ]
  },
  {
   "cell_type": "code",
   "execution_count": 133,
   "id": "a8f85249",
   "metadata": {},
   "outputs": [],
   "source": [
    "#calculate monetary impact from each model (Baseline vs XGBoost and Neural Network) and determine threshold\n",
    "#that minimizes cost and maximizes approval rate\n",
    "#baseline model = 85% recall"
   ]
  },
  {
   "cell_type": "code",
   "execution_count": 167,
   "id": "eeffb9cd",
   "metadata": {
    "scrolled": false
   },
   "outputs": [],
   "source": [
    "#find precision recall values for all thresholds for baseline model\n",
    "\n",
    "from sklearn.metrics import precision_recall_curve\n",
    "\n",
    "precision, recall, thresholds = precision_recall_curve(y_test, pred_probas['base'])\n",
    "base_pred = pd.DataFrame()\n",
    "base_pred['precision'] = precision\n",
    "base_pred['recall'] = recall\n",
    "base_pred.drop(base_pred.count()-1, inplace=True)\n",
    "base_pred['thresholds'] = thresholds\n",
    "\n",
    "base_pred.sort_values(by=['thresholds'], ascending=False, inplace=True)"
   ]
  },
  {
   "cell_type": "code",
   "execution_count": 168,
   "id": "e60f33c0",
   "metadata": {
    "scrolled": true
   },
   "outputs": [
    {
     "data": {
      "text/html": [
       "<div>\n",
       "<style scoped>\n",
       "    .dataframe tbody tr th:only-of-type {\n",
       "        vertical-align: middle;\n",
       "    }\n",
       "\n",
       "    .dataframe tbody tr th {\n",
       "        vertical-align: top;\n",
       "    }\n",
       "\n",
       "    .dataframe thead th {\n",
       "        text-align: right;\n",
       "    }\n",
       "</style>\n",
       "<table border=\"1\" class=\"dataframe\">\n",
       "  <thead>\n",
       "    <tr style=\"text-align: right;\">\n",
       "      <th></th>\n",
       "      <th>precision</th>\n",
       "      <th>recall</th>\n",
       "      <th>thresholds</th>\n",
       "    </tr>\n",
       "  </thead>\n",
       "  <tbody>\n",
       "    <tr>\n",
       "      <th>5435</th>\n",
       "      <td>0.987134</td>\n",
       "      <td>0.850011</td>\n",
       "      <td>0.943889</td>\n",
       "    </tr>\n",
       "  </tbody>\n",
       "</table>\n",
       "</div>"
      ],
      "text/plain": [
       "      precision    recall  thresholds\n",
       "5435   0.987134  0.850011    0.943889"
      ]
     },
     "execution_count": 168,
     "metadata": {},
     "output_type": "execute_result"
    }
   ],
   "source": [
    "#baseline model - set recall to 0.85, calculate approval rate and chargebacks\n",
    "#find threshold where recall = 0.85\n",
    "\n",
    "base_pred[base_pred.recall >= 0.85].head(1)"
   ]
  },
  {
   "cell_type": "code",
   "execution_count": 136,
   "id": "3962ae41",
   "metadata": {},
   "outputs": [
    {
     "data": {
      "image/png": "[encoded data removed]",
      "text/plain": [
       "<Figure size 576x432 with 2 Axes>"
      ]
     },
     "metadata": {},
     "output_type": "display_data"
    }
   ],
   "source": [
    "#print confusion matrix\n",
    "from sklearn.metrics import confusion_matrix\n",
    "\n",
    "cm = confusion_matrix(y_test, np.where(pred_probas['base'] >= 0.943889, 1, 0))\n",
    "labels = ['Fraud', 'Legit']\n",
    "plt.figure(figsize=(8,6))\n",
    "sns.heatmap(cm, xticklabels=labels, yticklabels=labels, annot=True, fmt='d', cmap=\"Blues\", vmin = 0.2);\n",
    "plt.title('Confusion Matrix for Baseline Model')\n",
    "plt.ylabel('True Class')\n",
    "plt.xlabel('Predicted Class')\n",
    "plt.show()"
   ]
  },
  {
   "cell_type": "code",
   "execution_count": 88,
   "id": "3ab3b1c6",
   "metadata": {},
   "outputs": [],
   "source": [
    "#approval rate is (24089+314)/30000 = 81.34%\n",
    "#chargeback rate is 314/(24089+314) = 1.29%\n",
    "#revenue = approved volume - chargebacks\n",
    "#revenue = 80.05% * volume\n",
    "#missed revenue = false negative rate\n",
    "#missed revenue = 4253/30000 = 14.18%"
   ]
  },
  {
   "cell_type": "code",
   "execution_count": 241,
   "id": "822e0bb4",
   "metadata": {},
   "outputs": [],
   "source": [
    "model_compare = pd.DataFrame()\n",
    "\n",
    "model_compare['Metric'] = ['Order Volume', 'Approval Rate', 'Approved Volume', 'Chargeback Rate', 'Chargeback Volume', 'Revenue', 'Missed Revenue']\n",
    "model_compare['Baseline'] = [X_test.transaction_amt.sum(), '81.34%', round(X_test.transaction_amt.sum()*0.8134, 2), '1.29%', round(X_test.transaction_amt.sum()*0.0129*0.8134, 2), round(X_test.transaction_amt.sum()*0.8134*(1-0.0129), 2), round(X_test.transaction_amt.sum()*0.1418, 2)]"
   ]
  },
  {
   "cell_type": "code",
   "execution_count": 169,
   "id": "0aa68737",
   "metadata": {},
   "outputs": [],
   "source": [
    "#find precision recall values for all thresholds for XGBoost model\n",
    "\n",
    "precision, recall, thresholds = precision_recall_curve(y_test, pred_probas['xgb'])\n",
    "xgb_pred = pd.DataFrame()\n",
    "xgb_pred['precision'] = precision\n",
    "xgb_pred['recall'] = recall\n",
    "xgb_pred.drop(xgb_pred.count()-1, inplace=True)\n",
    "xgb_pred['thresholds'] = thresholds\n",
    "\n",
    "xgb_pred.sort_values(by=['thresholds'], ascending=False, inplace=True)"
   ]
  },
  {
   "cell_type": "code",
   "execution_count": 170,
   "id": "a3de5fbd",
   "metadata": {
    "scrolled": false
   },
   "outputs": [
    {
     "data": {
      "text/html": [
       "<div>\n",
       "<style scoped>\n",
       "    .dataframe tbody tr th:only-of-type {\n",
       "        vertical-align: middle;\n",
       "    }\n",
       "\n",
       "    .dataframe tbody tr th {\n",
       "        vertical-align: top;\n",
       "    }\n",
       "\n",
       "    .dataframe thead th {\n",
       "        text-align: right;\n",
       "    }\n",
       "</style>\n",
       "<table border=\"1\" class=\"dataframe\">\n",
       "  <thead>\n",
       "    <tr style=\"text-align: right;\">\n",
       "      <th></th>\n",
       "      <th>precision</th>\n",
       "      <th>recall</th>\n",
       "      <th>thresholds</th>\n",
       "    </tr>\n",
       "  </thead>\n",
       "  <tbody>\n",
       "    <tr>\n",
       "      <th>5687</th>\n",
       "      <td>0.991358</td>\n",
       "      <td>0.850011</td>\n",
       "      <td>0.964036</td>\n",
       "    </tr>\n",
       "  </tbody>\n",
       "</table>\n",
       "</div>"
      ],
      "text/plain": [
       "      precision    recall  thresholds\n",
       "5687   0.991358  0.850011    0.964036"
      ]
     },
     "execution_count": 170,
     "metadata": {},
     "output_type": "execute_result"
    }
   ],
   "source": [
    "#find threshold where recall = 0.85 and compare precision\n",
    "\n",
    "xgb_pred[xgb_pred.recall >= 0.85].head(1)"
   ]
  },
  {
   "cell_type": "code",
   "execution_count": 219,
   "id": "7874caa6",
   "metadata": {
    "scrolled": false
   },
   "outputs": [
    {
     "data": {
      "text/html": [
       "<div>\n",
       "<style scoped>\n",
       "    .dataframe tbody tr th:only-of-type {\n",
       "        vertical-align: middle;\n",
       "    }\n",
       "\n",
       "    .dataframe tbody tr th {\n",
       "        vertical-align: top;\n",
       "    }\n",
       "\n",
       "    .dataframe thead th {\n",
       "        text-align: right;\n",
       "    }\n",
       "</style>\n",
       "<table border=\"1\" class=\"dataframe\">\n",
       "  <thead>\n",
       "    <tr style=\"text-align: right;\">\n",
       "      <th></th>\n",
       "      <th>precision</th>\n",
       "      <th>recall</th>\n",
       "      <th>thresholds</th>\n",
       "    </tr>\n",
       "  </thead>\n",
       "  <tbody>\n",
       "    <tr>\n",
       "      <th>5106</th>\n",
       "      <td>0.990878</td>\n",
       "      <td>0.870016</td>\n",
       "      <td>0.957506</td>\n",
       "    </tr>\n",
       "  </tbody>\n",
       "</table>\n",
       "</div>"
      ],
      "text/plain": [
       "      precision    recall  thresholds\n",
       "5106   0.990878  0.870016    0.957506"
      ]
     },
     "execution_count": 219,
     "metadata": {},
     "output_type": "execute_result"
    }
   ],
   "source": [
    "#increase recall to 0.87\n",
    "\n",
    "xgb_pred[xgb_pred.recall >= 0.87].head(1)"
   ]
  },
  {
   "cell_type": "code",
   "execution_count": 220,
   "id": "86c955fa",
   "metadata": {},
   "outputs": [
    {
     "data": {
      "image/png": "[encoded data removed]",
      "text/plain": [
       "<Figure size 576x432 with 2 Axes>"
      ]
     },
     "metadata": {},
     "output_type": "display_data"
    }
   ],
   "source": [
    "#print confusion matrix\n",
    "\n",
    "cm = confusion_matrix(y_test, np.where(pred_probas['xgb'] >= 0.957506, 1, 0))\n",
    "labels = ['Fraud', 'Legit']\n",
    "plt.figure(figsize=(8,6))\n",
    "sns.heatmap(cm, xticklabels=labels, yticklabels=labels, annot=True, fmt='d', cmap=\"Blues\", vmin = 0.2);\n",
    "plt.title('Confusion Matrix for XGBoost Model')\n",
    "plt.ylabel('True Class')\n",
    "plt.xlabel('Predicted Class')\n",
    "plt.show()"
   ]
  },
  {
   "cell_type": "code",
   "execution_count": 242,
   "id": "a10483a5",
   "metadata": {},
   "outputs": [],
   "source": [
    "#approval rate is (24658+227)/30000 = 82.95%\n",
    "#chargeback rate is 1-precision\n",
    "#chargeback rate is 227/(24658+227) = 0.912%\n",
    "#revenue is 82.04% * volume\n",
    "#missed revenue is 3684/30000 = 12.28%\n",
    "#add to comparison dataframe\n",
    "\n",
    "model_compare['XGBoost'] = [X_test.transaction_amt.sum(), '82.95%', round(X_test.transaction_amt.sum()*0.8295, 2), '0.912%', round(X_test.transaction_amt.sum()*0.00912*0.8295, 2), round(X_test.transaction_amt.sum()*0.8295*(1-0.00912), 2), round(X_test.transaction_amt.sum()*0.1228, 2)]"
   ]
  },
  {
   "cell_type": "code",
   "execution_count": 172,
   "id": "5967c887",
   "metadata": {},
   "outputs": [],
   "source": [
    "#find precision recall values for all thresholds for Neural Network model\n",
    "\n",
    "precision, recall, thresholds = precision_recall_curve(y_test, pred_probas['nn'])\n",
    "nn_pred = pd.DataFrame()\n",
    "nn_pred['precision'] = precision\n",
    "nn_pred['recall'] = recall\n",
    "nn_pred.drop(nn_pred.count()-1, inplace=True)\n",
    "nn_pred['thresholds'] = thresholds\n",
    "\n",
    "nn_pred.sort_values(by=['thresholds'], ascending=False, inplace=True)"
   ]
  },
  {
   "cell_type": "code",
   "execution_count": 173,
   "id": "687e02f1",
   "metadata": {},
   "outputs": [
    {
     "data": {
      "text/html": [
       "<div>\n",
       "<style scoped>\n",
       "    .dataframe tbody tr th:only-of-type {\n",
       "        vertical-align: middle;\n",
       "    }\n",
       "\n",
       "    .dataframe tbody tr th {\n",
       "        vertical-align: top;\n",
       "    }\n",
       "\n",
       "    .dataframe thead th {\n",
       "        text-align: right;\n",
       "    }\n",
       "</style>\n",
       "<table border=\"1\" class=\"dataframe\">\n",
       "  <thead>\n",
       "    <tr style=\"text-align: right;\">\n",
       "      <th></th>\n",
       "      <th>precision</th>\n",
       "      <th>recall</th>\n",
       "      <th>thresholds</th>\n",
       "    </tr>\n",
       "  </thead>\n",
       "  <tbody>\n",
       "    <tr>\n",
       "      <th>5702</th>\n",
       "      <td>0.991807</td>\n",
       "      <td>0.850011</td>\n",
       "      <td>0.966281</td>\n",
       "    </tr>\n",
       "  </tbody>\n",
       "</table>\n",
       "</div>"
      ],
      "text/plain": [
       "      precision    recall  thresholds\n",
       "5702   0.991807  0.850011    0.966281"
      ]
     },
     "execution_count": 173,
     "metadata": {},
     "output_type": "execute_result"
    }
   ],
   "source": [
    "#find threshold where recall = 0.85 and compare precision\n",
    "\n",
    "nn_pred[nn_pred.recall >= 0.85].head(1)"
   ]
  },
  {
   "cell_type": "code",
   "execution_count": 221,
   "id": "0db8b99a",
   "metadata": {},
   "outputs": [
    {
     "data": {
      "text/html": [
       "<div>\n",
       "<style scoped>\n",
       "    .dataframe tbody tr th:only-of-type {\n",
       "        vertical-align: middle;\n",
       "    }\n",
       "\n",
       "    .dataframe tbody tr th {\n",
       "        vertical-align: top;\n",
       "    }\n",
       "\n",
       "    .dataframe thead th {\n",
       "        text-align: right;\n",
       "    }\n",
       "</style>\n",
       "<table border=\"1\" class=\"dataframe\">\n",
       "  <thead>\n",
       "    <tr style=\"text-align: right;\">\n",
       "      <th></th>\n",
       "      <th>precision</th>\n",
       "      <th>recall</th>\n",
       "      <th>thresholds</th>\n",
       "    </tr>\n",
       "  </thead>\n",
       "  <tbody>\n",
       "    <tr>\n",
       "      <th>4970</th>\n",
       "      <td>0.991009</td>\n",
       "      <td>0.875026</td>\n",
       "      <td>0.956771</td>\n",
       "    </tr>\n",
       "  </tbody>\n",
       "</table>\n",
       "</div>"
      ],
      "text/plain": [
       "      precision    recall  thresholds\n",
       "4970   0.991009  0.875026    0.956771"
      ]
     },
     "execution_count": 221,
     "metadata": {},
     "output_type": "execute_result"
    }
   ],
   "source": [
    "#increase recall to 0.875\n",
    "\n",
    "nn_pred[nn_pred.recall >= 0.875].head(1)"
   ]
  },
  {
   "cell_type": "code",
   "execution_count": 222,
   "id": "d0c9ad91",
   "metadata": {},
   "outputs": [
    {
     "data": {
      "image/png": "[encoded data removed]",
      "text/plain": [
       "<Figure size 576x432 with 2 Axes>"
      ]
     },
     "metadata": {},
     "output_type": "display_data"
    }
   ],
   "source": [
    "#print confusion matrix\n",
    "\n",
    "cm = confusion_matrix(y_test, np.where(pred_probas['nn'] >= 0.956771, 1, 0))\n",
    "labels = ['Fraud', 'Legit']\n",
    "plt.figure(figsize=(8,6))\n",
    "sns.heatmap(cm, xticklabels=labels, yticklabels=labels, annot=True, fmt='d', cmap=\"Blues\", vmin = 0.2);\n",
    "plt.title('Confusion Matrix for Neural Network')\n",
    "plt.ylabel('True Class')\n",
    "plt.xlabel('Predicted Class')\n",
    "plt.show()"
   ]
  },
  {
   "cell_type": "code",
   "execution_count": 243,
   "id": "8cf3cecd",
   "metadata": {},
   "outputs": [],
   "source": [
    "#approval rate is (24799+225)/30000 = 83.41%\n",
    "#chargeback rate is 225/(24799+225) = 0.899%\n",
    "#revenue is approved volume - chargeback volume\n",
    "#missed revenue is 3543/30000 = 11.81%\n",
    "#add to comparison dataframe\n",
    "\n",
    "model_compare['Neural Network'] = [X_test.transaction_amt.sum(), '83.41%', round(X_test.transaction_amt.sum()*0.8341, 2), '0.899%', round(X_test.transaction_amt.sum()*0.00899*0.8341, 2), round(X_test.transaction_amt.sum()*0.8341*(1-.00899), 2), round(X_test.transaction_amt.sum()*0.1181, 2)]"
   ]
  },
  {
   "cell_type": "code",
   "execution_count": 244,
   "id": "7d4d502e",
   "metadata": {},
   "outputs": [
    {
     "data": {
      "text/html": [
       "<div>\n",
       "<style scoped>\n",
       "    .dataframe tbody tr th:only-of-type {\n",
       "        vertical-align: middle;\n",
       "    }\n",
       "\n",
       "    .dataframe tbody tr th {\n",
       "        vertical-align: top;\n",
       "    }\n",
       "\n",
       "    .dataframe thead th {\n",
       "        text-align: right;\n",
       "    }\n",
       "</style>\n",
       "<table border=\"1\" class=\"dataframe\">\n",
       "  <thead>\n",
       "    <tr style=\"text-align: right;\">\n",
       "      <th></th>\n",
       "      <th>Baseline</th>\n",
       "      <th>XGBoost</th>\n",
       "      <th>Neural Network</th>\n",
       "    </tr>\n",
       "    <tr>\n",
       "      <th>Metric</th>\n",
       "      <th></th>\n",
       "      <th></th>\n",
       "      <th></th>\n",
       "    </tr>\n",
       "  </thead>\n",
       "  <tbody>\n",
       "    <tr>\n",
       "      <th>Order Volume</th>\n",
       "      <td>75959876.0</td>\n",
       "      <td>75959876.0</td>\n",
       "      <td>75959876.0</td>\n",
       "    </tr>\n",
       "    <tr>\n",
       "      <th>Approval Rate</th>\n",
       "      <td>81.34%</td>\n",
       "      <td>82.95%</td>\n",
       "      <td>83.41%</td>\n",
       "    </tr>\n",
       "    <tr>\n",
       "      <th>Approved Volume</th>\n",
       "      <td>61785763.14</td>\n",
       "      <td>63008717.14</td>\n",
       "      <td>63358132.57</td>\n",
       "    </tr>\n",
       "    <tr>\n",
       "      <th>Chargeback Rate</th>\n",
       "      <td>1.29%</td>\n",
       "      <td>0.912%</td>\n",
       "      <td>0.899%</td>\n",
       "    </tr>\n",
       "    <tr>\n",
       "      <th>Chargeback Volume</th>\n",
       "      <td>797036.34</td>\n",
       "      <td>574639.5</td>\n",
       "      <td>569589.61</td>\n",
       "    </tr>\n",
       "    <tr>\n",
       "      <th>Revenue</th>\n",
       "      <td>60988726.79</td>\n",
       "      <td>62434077.64</td>\n",
       "      <td>62788542.96</td>\n",
       "    </tr>\n",
       "    <tr>\n",
       "      <th>Missed Revenue</th>\n",
       "      <td>10771110.42</td>\n",
       "      <td>9327872.77</td>\n",
       "      <td>8970861.36</td>\n",
       "    </tr>\n",
       "  </tbody>\n",
       "</table>\n",
       "</div>"
      ],
      "text/plain": [
       "                      Baseline      XGBoost Neural Network\n",
       "Metric                                                    \n",
       "Order Volume        75959876.0   75959876.0     75959876.0\n",
       "Approval Rate           81.34%       82.95%         83.41%\n",
       "Approved Volume    61785763.14  63008717.14    63358132.57\n",
       "Chargeback Rate          1.29%       0.912%         0.899%\n",
       "Chargeback Volume    797036.34     574639.5      569589.61\n",
       "Revenue            60988726.79  62434077.64    62788542.96\n",
       "Missed Revenue     10771110.42   9327872.77     8970861.36"
      ]
     },
     "execution_count": 244,
     "metadata": {},
     "output_type": "execute_result"
    }
   ],
   "source": [
    "model_compare.set_index('Metric')"
   ]
  },
  {
   "cell_type": "code",
   "execution_count": null,
   "id": "2a64fa19",
   "metadata": {},
   "outputs": [],
   "source": []
  }
 ],
 "metadata": {
  "kernelspec": {
   "display_name": "Python 3 (ipykernel)",
   "language": "python",
   "name": "python3"
  },
  "language_info": {
   "codemirror_mode": {
    "name": "ipython",
    "version": 3
   },
   "file_extension": ".py",
   "mimetype": "text/x-python",
   "name": "python",
   "nbconvert_exporter": "python",
   "pygments_lexer": "ipython3",
   "version": "3.9.7"
  }
 },
 "nbformat": 4,
 "nbformat_minor": 5
}
